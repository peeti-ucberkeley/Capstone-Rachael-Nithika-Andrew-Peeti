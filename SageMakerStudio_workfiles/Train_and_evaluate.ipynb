{
 "cells": [
  {
   "cell_type": "markdown",
   "id": "9ded15fc-8e0e-41df-9848-47eed8baaa91",
   "metadata": {},
   "source": [
    "# Fine-tune mobilenet v2 with SageMaker\n",
    "  \n",
    "This notebook should be run in a SageMaker Studio Jupyter notebook with a small-ish instance type (ml.t3.medium is fine).  \n",
    "Training job will be run on a separate, more powerful instance as defined below."
   ]
  },
  {
   "cell_type": "markdown",
   "id": "f7cbdd23-be9b-49c9-ad22-8a4da6869225",
   "metadata": {},
   "source": [
    "### Start sagemaker session"
   ]
  },
  {
   "cell_type": "code",
   "execution_count": 41,
   "id": "18fb9218-35e8-443a-ae51-02dd60b8ef29",
   "metadata": {
    "tags": []
   },
   "outputs": [
    {
     "name": "stdout",
     "output_type": "stream",
     "text": [
      "sagemaker.config INFO - Not applying SDK defaults from location: /etc/xdg/sagemaker/config.yaml\n",
      "sagemaker.config INFO - Not applying SDK defaults from location: /root/.config/sagemaker/config.yaml\n",
      "sagemaker.config INFO - Not applying SDK defaults from location: /etc/xdg/sagemaker/config.yaml\n",
      "sagemaker.config INFO - Not applying SDK defaults from location: /root/.config/sagemaker/config.yaml\n"
     ]
    }
   ],
   "source": [
    "import sagemaker, boto3, json\n",
    "from sagemaker.session import Session\n",
    "\n",
    "sagemaker_session = Session()\n",
    "aws_role = sagemaker_session.get_caller_identity_arn()\n",
    "aws_region = boto3.Session().region_name\n",
    "sess = sagemaker.Session()\n",
    "s3 = boto3.resource('s3', region_name=aws_region)\n",
    "bucket = s3.Bucket('isicbucket')"
   ]
  },
  {
   "cell_type": "markdown",
   "id": "a8c0550f-a32d-466e-bd8b-f951709a6814",
   "metadata": {},
   "source": [
    "# Imagenet-Resnet-V2"
   ]
  },
  {
   "cell_type": "code",
   "execution_count": 42,
   "id": "f590e0a0-0f6c-49be-8d3b-6108d07a8d0c",
   "metadata": {
    "tags": []
   },
   "outputs": [],
   "source": [
    "from sagemaker import image_uris, model_uris, script_uris, hyperparameters\n",
    "from sagemaker.estimator import Estimator"
   ]
  },
  {
   "cell_type": "markdown",
   "id": "20efef79-9f79-4d94-950e-0c500ba7ffd6",
   "metadata": {},
   "source": [
    "### Define model and training instance type"
   ]
  },
  {
   "cell_type": "code",
   "execution_count": 45,
   "id": "8b6a5bc2-968a-4739-b1e0-1c350dbdfab3",
   "metadata": {
    "tags": []
   },
   "outputs": [],
   "source": [
    "model_id, model_version = \"tensorflow-ic-imagenet-resnet-v2-101-classification-4\", \"4.0.2\"\n",
    "training_instance_type = \"ml.g4dn.xlarge\" #\"ml.g4dn.12xlarge\""
   ]
  },
  {
   "cell_type": "markdown",
   "id": "ebfbe290-e312-46b5-b5a2-fdd847fb6b71",
   "metadata": {},
   "source": [
    "### Retrieve training uris"
   ]
  },
  {
   "cell_type": "code",
   "execution_count": 46,
   "id": "e9944df4-2e1a-404e-b47e-991cc8dafa48",
   "metadata": {
    "tags": []
   },
   "outputs": [],
   "source": [
    "# Retrieve the Docker image\n",
    "train_image_uri = image_uris.retrieve(model_id=model_id,model_version=model_version,image_scope=\"training\",instance_type=training_instance_type,region=None,framework=None)\n",
    "\n",
    "# Retrieve the training script\n",
    "train_source_uri = script_uris.retrieve(model_id=model_id, model_version=model_version, script_scope=\"training\")\n",
    "\n",
    "# Retrieve the pretrained model tarball for transfer learning\n",
    "train_model_uri = model_uris.retrieve(model_id=model_id, model_version=model_version, model_scope=\"training\")"
   ]
  },
  {
   "cell_type": "markdown",
   "id": "0424ed8a-4fd5-47c1-aa2d-80b3fd1b9df2",
   "metadata": {},
   "source": [
    "### Define hyperparameters"
   ]
  },
  {
   "cell_type": "code",
   "execution_count": 47,
   "id": "bb1033a4-f0f6-4204-8fd7-09aec6d98f73",
   "metadata": {
    "tags": []
   },
   "outputs": [
    {
     "name": "stdout",
     "output_type": "stream",
     "text": [
      "{'train_only_top_layer': 'True'\n",
      "'epochs': '10'\n",
      "'batch_size': '32'\n",
      "'optimizer': 'adam'\n",
      "'learning_rate': '0.001'\n",
      "'beta_1': '0.9'\n",
      "'beta_2': '0.999'\n",
      "'momentum': '0.9'\n",
      "'epsilon': '1e-07'\n",
      "'rho': '0.95'\n",
      "'initial_accumulator_value': '0.1'\n",
      "'reinitialize_top_layer': 'Auto'\n",
      "'early_stopping': 'False'\n",
      "'early_stopping_patience': '5'\n",
      "'early_stopping_min_delta': '0.0'\n",
      "'dropout_rate': '0.2'\n",
      "'regularizers_l2': '0.0001'\n",
      "'label_smoothing': '0.1'\n",
      "'image_resize_interpolation': 'bilinear'\n",
      "'augmentation': True\n",
      "'augmentation_random_flip': 'horizontal_and_vertical'\n",
      "'augmentation_random_rotation': '0.2'\n",
      "'augmentation_random_zoom': '0.1'\n",
      "'binary_mode': 'False'\n",
      "'eval_metric': 'accuracy'\n",
      "'validation_split_ratio': '0.2'\n",
      "'random_seed': '123'}\n"
     ]
    }
   ],
   "source": [
    "# Retrieve the default hyper-parameters for fine-tuning the model\n",
    "hyperparameters = hyperparameters.retrieve_default(model_id=model_id, model_version=model_version)\n",
    "\n",
    "# [Optional] Override default hyperparameters with custom values\n",
    "hyperparameters[\"epochs\"] = \"10\"\n",
    "hyperparameters[\"augmentation\"] = True\n",
    "print(str(hyperparameters).replace(\", \", \"\\n\"))"
   ]
  },
  {
   "cell_type": "markdown",
   "id": "d0e9e401-ded3-4d4c-aff4-0b8138d39267",
   "metadata": {},
   "source": [
    "### Set up S3 input and output buckets"
   ]
  },
  {
   "cell_type": "code",
   "execution_count": 48,
   "id": "c4e0bfc2-ff42-4482-ad4e-304f7a221e8a",
   "metadata": {
    "tags": []
   },
   "outputs": [],
   "source": [
    "# The data is available in the following S3 bucket\n",
    "training_data_bucket = \"isicbucket\"\n",
    "training_data_prefix = \"preprocessed/train_preprocess_ps_224_new\"\n",
    "training_dataset_s3_path = f\"s3://{training_data_bucket}/{training_data_prefix}\"\n",
    "\n",
    "training_job_name = \"isic-resnet-v2-finetune\"\n",
    "\n",
    "# Model and model artefacts will be saved to the following S3 bucket\n",
    "output_bucket = sess.default_bucket()\n",
    "output_prefix = \"isic_resnet-v2_finetune\"\n",
    "s3_output_location = f\"s3://{output_bucket}/{output_prefix}/output\""
   ]
  },
  {
   "cell_type": "markdown",
   "id": "66231964-f63f-449f-a8a7-ed320eb8bfe7",
   "metadata": {},
   "source": [
    "### Create and fit Sagemaker Estimator"
   ]
  },
  {
   "cell_type": "code",
   "execution_count": 49,
   "id": "2e005bea-d9ba-4a75-a21d-21d1a4e6e7b3",
   "metadata": {
    "collapsed": true,
    "jupyter": {
     "outputs_hidden": true
    },
    "tags": []
   },
   "outputs": [
    {
     "name": "stdout",
     "output_type": "stream",
     "text": [
      "sagemaker.config INFO - Not applying SDK defaults from location: /etc/xdg/sagemaker/config.yaml\n",
      "sagemaker.config INFO - Not applying SDK defaults from location: /root/.config/sagemaker/config.yaml\n"
     ]
    },
    {
     "name": "stderr",
     "output_type": "stream",
     "text": [
      "INFO:sagemaker:Creating training-job with name: isic-resnet-v2-finetune-2024-03-12-18-55-50-248\n"
     ]
    },
    {
     "name": "stdout",
     "output_type": "stream",
     "text": [
      "2024-03-12 18:55:50 Starting - Starting the training job...\n",
      "2024-03-12 18:56:04 Starting - Preparing the instances for training...\n",
      "2024-03-12 18:56:41 Downloading - Downloading input data......\n",
      "2024-03-12 18:57:46 Downloading - Downloading the training image...............\n",
      "2024-03-12 19:00:07 Training - Training image download completed. Training in progress..\u001b[34m2024-03-12 19:00:18.436605: W tensorflow/core/profiler/internal/smprofiler_timeline.cc:460] Initializing the SageMaker Profiler.\u001b[0m\n",
      "\u001b[34m2024-03-12 19:00:18.437198: W tensorflow/core/profiler/internal/smprofiler_timeline.cc:105] SageMaker Profiler is not enabled. The timeline writer thread will not be started, future recorded events will be dropped.\u001b[0m\n",
      "\u001b[34m2024-03-12 19:00:18.437427: I tensorflow/core/util/util.cc:169] oneDNN custom operations are on. You may see slightly different numerical results due to floating-point round-off errors from different computation orders. To turn them off, set the environment variable `TF_ENABLE_ONEDNN_OPTS=0`.\u001b[0m\n",
      "\u001b[34m2024-03-12 19:00:18.478474: W tensorflow/core/profiler/internal/smprofiler_timeline.cc:460] Initializing the SageMaker Profiler.\u001b[0m\n",
      "\u001b[34m2024-03-12 19:00:20,544 sagemaker-training-toolkit INFO     Imported framework sagemaker_tensorflow_container.training\u001b[0m\n",
      "\u001b[34m2024-03-12 19:00:20,928 sagemaker-training-toolkit INFO     Invoking user script\u001b[0m\n",
      "\u001b[34mTraining Env:\u001b[0m\n",
      "\u001b[34m{\n",
      "    \"additional_framework_parameters\": {},\n",
      "    \"channel_input_dirs\": {\n",
      "        \"model\": \"/opt/ml/input/data/model\",\n",
      "        \"training\": \"/opt/ml/input/data/training\"\n",
      "    },\n",
      "    \"current_host\": \"algo-1\",\n",
      "    \"current_instance_group\": \"homogeneousCluster\",\n",
      "    \"current_instance_group_hosts\": [\n",
      "        \"algo-1\"\n",
      "    ],\n",
      "    \"current_instance_type\": \"ml.g4dn.xlarge\",\n",
      "    \"distribution_hosts\": [],\n",
      "    \"distribution_instance_groups\": [],\n",
      "    \"framework_module\": \"sagemaker_tensorflow_container.training:main\",\n",
      "    \"hosts\": [\n",
      "        \"algo-1\"\n",
      "    ],\n",
      "    \"hyperparameters\": {\n",
      "        \"augmentation\": true,\n",
      "        \"augmentation_random_flip\": \"horizontal_and_vertical\",\n",
      "        \"augmentation_random_rotation\": \"0.2\",\n",
      "        \"augmentation_random_zoom\": \"0.1\",\n",
      "        \"batch_size\": \"32\",\n",
      "        \"beta_1\": \"0.9\",\n",
      "        \"beta_2\": \"0.999\",\n",
      "        \"binary_mode\": \"False\",\n",
      "        \"dropout_rate\": \"0.2\",\n",
      "        \"early_stopping\": \"False\",\n",
      "        \"early_stopping_min_delta\": \"0.0\",\n",
      "        \"early_stopping_patience\": \"5\",\n",
      "        \"epochs\": \"10\",\n",
      "        \"epsilon\": \"1e-07\",\n",
      "        \"eval_metric\": \"accuracy\",\n",
      "        \"image_resize_interpolation\": \"bilinear\",\n",
      "        \"initial_accumulator_value\": \"0.1\",\n",
      "        \"label_smoothing\": \"0.1\",\n",
      "        \"learning_rate\": \"0.001\",\n",
      "        \"momentum\": \"0.9\",\n",
      "        \"optimizer\": \"adam\",\n",
      "        \"random_seed\": \"123\",\n",
      "        \"regularizers_l2\": \"0.0001\",\n",
      "        \"reinitialize_top_layer\": \"Auto\",\n",
      "        \"rho\": \"0.95\",\n",
      "        \"train_only_top_layer\": \"True\",\n",
      "        \"validation_split_ratio\": \"0.2\"\n",
      "    },\n",
      "    \"input_config_dir\": \"/opt/ml/input/config\",\n",
      "    \"input_data_config\": {\n",
      "        \"model\": {\n",
      "            \"ContentType\": \"application/x-sagemaker-model\",\n",
      "            \"TrainingInputMode\": \"File\",\n",
      "            \"S3DistributionType\": \"FullyReplicated\",\n",
      "            \"RecordWrapperType\": \"None\"\n",
      "        },\n",
      "        \"training\": {\n",
      "            \"TrainingInputMode\": \"File\",\n",
      "            \"S3DistributionType\": \"FullyReplicated\",\n",
      "            \"RecordWrapperType\": \"None\"\n",
      "        }\n",
      "    },\n",
      "    \"input_dir\": \"/opt/ml/input\",\n",
      "    \"instance_groups\": [\n",
      "        \"homogeneousCluster\"\n",
      "    ],\n",
      "    \"instance_groups_dict\": {\n",
      "        \"homogeneousCluster\": {\n",
      "            \"instance_group_name\": \"homogeneousCluster\",\n",
      "            \"instance_type\": \"ml.g4dn.xlarge\",\n",
      "            \"hosts\": [\n",
      "                \"algo-1\"\n",
      "            ]\n",
      "        }\n",
      "    },\n",
      "    \"is_hetero\": false,\n",
      "    \"is_master\": true,\n",
      "    \"is_modelparallel_enabled\": null,\n",
      "    \"job_name\": \"isic-resnet-v2-finetune-2024-03-12-18-55-50-248\",\n",
      "    \"log_level\": 20,\n",
      "    \"master_hostname\": \"algo-1\",\n",
      "    \"model_dir\": \"/opt/ml/model\",\n",
      "    \"module_dir\": \"s3://jumpstart-cache-prod-us-west-2/source-directory-tarballs/tensorflow/transfer_learning/ic/prepack/v1.1.2/sourcedir.tar.gz\",\n",
      "    \"module_name\": \"transfer_learning\",\n",
      "    \"network_interface_name\": \"eth0\",\n",
      "    \"num_cpus\": 4,\n",
      "    \"num_gpus\": 1,\n",
      "    \"output_data_dir\": \"/opt/ml/output/data\",\n",
      "    \"output_dir\": \"/opt/ml/output\",\n",
      "    \"output_intermediate_dir\": \"/opt/ml/output/intermediate\",\n",
      "    \"resource_config\": {\n",
      "        \"current_host\": \"algo-1\",\n",
      "        \"current_instance_type\": \"ml.g4dn.xlarge\",\n",
      "        \"current_group_name\": \"homogeneousCluster\",\n",
      "        \"hosts\": [\n",
      "            \"algo-1\"\n",
      "        ],\n",
      "        \"instance_groups\": [\n",
      "            {\n",
      "                \"instance_group_name\": \"homogeneousCluster\",\n",
      "                \"instance_type\": \"ml.g4dn.xlarge\",\n",
      "                \"hosts\": [\n",
      "                    \"algo-1\"\n",
      "                ]\n",
      "            }\n",
      "        ],\n",
      "        \"network_interface_name\": \"eth0\"\n",
      "    },\n",
      "    \"user_entry_point\": \"transfer_learning.py\"\u001b[0m\n",
      "\u001b[34m}\u001b[0m\n",
      "\u001b[34mEnvironment variables:\u001b[0m\n",
      "\u001b[34mSM_HOSTS=[\"algo-1\"]\u001b[0m\n",
      "\u001b[34mSM_NETWORK_INTERFACE_NAME=eth0\u001b[0m\n",
      "\u001b[34mSM_HPS={\"augmentation\":true,\"augmentation_random_flip\":\"horizontal_and_vertical\",\"augmentation_random_rotation\":\"0.2\",\"augmentation_random_zoom\":\"0.1\",\"batch_size\":\"32\",\"beta_1\":\"0.9\",\"beta_2\":\"0.999\",\"binary_mode\":\"False\",\"dropout_rate\":\"0.2\",\"early_stopping\":\"False\",\"early_stopping_min_delta\":\"0.0\",\"early_stopping_patience\":\"5\",\"epochs\":\"10\",\"epsilon\":\"1e-07\",\"eval_metric\":\"accuracy\",\"image_resize_interpolation\":\"bilinear\",\"initial_accumulator_value\":\"0.1\",\"label_smoothing\":\"0.1\",\"learning_rate\":\"0.001\",\"momentum\":\"0.9\",\"optimizer\":\"adam\",\"random_seed\":\"123\",\"regularizers_l2\":\"0.0001\",\"reinitialize_top_layer\":\"Auto\",\"rho\":\"0.95\",\"train_only_top_layer\":\"True\",\"validation_split_ratio\":\"0.2\"}\u001b[0m\n",
      "\u001b[34mSM_USER_ENTRY_POINT=transfer_learning.py\u001b[0m\n",
      "\u001b[34mSM_FRAMEWORK_PARAMS={}\u001b[0m\n",
      "\u001b[34mSM_RESOURCE_CONFIG={\"current_group_name\":\"homogeneousCluster\",\"current_host\":\"algo-1\",\"current_instance_type\":\"ml.g4dn.xlarge\",\"hosts\":[\"algo-1\"],\"instance_groups\":[{\"hosts\":[\"algo-1\"],\"instance_group_name\":\"homogeneousCluster\",\"instance_type\":\"ml.g4dn.xlarge\"}],\"network_interface_name\":\"eth0\"}\u001b[0m\n",
      "\u001b[34mSM_INPUT_DATA_CONFIG={\"model\":{\"ContentType\":\"application/x-sagemaker-model\",\"RecordWrapperType\":\"None\",\"S3DistributionType\":\"FullyReplicated\",\"TrainingInputMode\":\"File\"},\"training\":{\"RecordWrapperType\":\"None\",\"S3DistributionType\":\"FullyReplicated\",\"TrainingInputMode\":\"File\"}}\u001b[0m\n",
      "\u001b[34mSM_OUTPUT_DATA_DIR=/opt/ml/output/data\u001b[0m\n",
      "\u001b[34mSM_CHANNELS=[\"model\",\"training\"]\u001b[0m\n",
      "\u001b[34mSM_CURRENT_HOST=algo-1\u001b[0m\n",
      "\u001b[34mSM_CURRENT_INSTANCE_TYPE=ml.g4dn.xlarge\u001b[0m\n",
      "\u001b[34mSM_CURRENT_INSTANCE_GROUP=homogeneousCluster\u001b[0m\n",
      "\u001b[34mSM_CURRENT_INSTANCE_GROUP_HOSTS=[\"algo-1\"]\u001b[0m\n",
      "\u001b[34mSM_INSTANCE_GROUPS=[\"homogeneousCluster\"]\u001b[0m\n",
      "\u001b[34mSM_INSTANCE_GROUPS_DICT={\"homogeneousCluster\":{\"hosts\":[\"algo-1\"],\"instance_group_name\":\"homogeneousCluster\",\"instance_type\":\"ml.g4dn.xlarge\"}}\u001b[0m\n",
      "\u001b[34mSM_DISTRIBUTION_INSTANCE_GROUPS=[]\u001b[0m\n",
      "\u001b[34mSM_IS_HETERO=false\u001b[0m\n",
      "\u001b[34mSM_MODULE_NAME=transfer_learning\u001b[0m\n",
      "\u001b[34mSM_LOG_LEVEL=20\u001b[0m\n",
      "\u001b[34mSM_FRAMEWORK_MODULE=sagemaker_tensorflow_container.training:main\u001b[0m\n",
      "\u001b[34mSM_INPUT_DIR=/opt/ml/input\u001b[0m\n",
      "\u001b[34mSM_INPUT_CONFIG_DIR=/opt/ml/input/config\u001b[0m\n",
      "\u001b[34mSM_OUTPUT_DIR=/opt/ml/output\u001b[0m\n",
      "\u001b[34mSM_NUM_CPUS=4\u001b[0m\n",
      "\u001b[34mSM_NUM_GPUS=1\u001b[0m\n",
      "\u001b[34mSM_MODEL_DIR=/opt/ml/model\u001b[0m\n",
      "\u001b[34mSM_MODULE_DIR=s3://jumpstart-cache-prod-us-west-2/source-directory-tarballs/tensorflow/transfer_learning/ic/prepack/v1.1.2/sourcedir.tar.gz\u001b[0m\n",
      "\u001b[34mSM_TRAINING_ENV={\"additional_framework_parameters\":{},\"channel_input_dirs\":{\"model\":\"/opt/ml/input/data/model\",\"training\":\"/opt/ml/input/data/training\"},\"current_host\":\"algo-1\",\"current_instance_group\":\"homogeneousCluster\",\"current_instance_group_hosts\":[\"algo-1\"],\"current_instance_type\":\"ml.g4dn.xlarge\",\"distribution_hosts\":[],\"distribution_instance_groups\":[],\"framework_module\":\"sagemaker_tensorflow_container.training:main\",\"hosts\":[\"algo-1\"],\"hyperparameters\":{\"augmentation\":true,\"augmentation_random_flip\":\"horizontal_and_vertical\",\"augmentation_random_rotation\":\"0.2\",\"augmentation_random_zoom\":\"0.1\",\"batch_size\":\"32\",\"beta_1\":\"0.9\",\"beta_2\":\"0.999\",\"binary_mode\":\"False\",\"dropout_rate\":\"0.2\",\"early_stopping\":\"False\",\"early_stopping_min_delta\":\"0.0\",\"early_stopping_patience\":\"5\",\"epochs\":\"10\",\"epsilon\":\"1e-07\",\"eval_metric\":\"accuracy\",\"image_resize_interpolation\":\"bilinear\",\"initial_accumulator_value\":\"0.1\",\"label_smoothing\":\"0.1\",\"learning_rate\":\"0.001\",\"momentum\":\"0.9\",\"optimizer\":\"adam\",\"random_seed\":\"123\",\"regularizers_l2\":\"0.0001\",\"reinitialize_top_layer\":\"Auto\",\"rho\":\"0.95\",\"train_only_top_layer\":\"True\",\"validation_split_ratio\":\"0.2\"},\"input_config_dir\":\"/opt/ml/input/config\",\"input_data_config\":{\"model\":{\"ContentType\":\"application/x-sagemaker-model\",\"RecordWrapperType\":\"None\",\"S3DistributionType\":\"FullyReplicated\",\"TrainingInputMode\":\"File\"},\"training\":{\"RecordWrapperType\":\"None\",\"S3DistributionType\":\"FullyReplicated\",\"TrainingInputMode\":\"File\"}},\"input_dir\":\"/opt/ml/input\",\"instance_groups\":[\"homogeneousCluster\"],\"instance_groups_dict\":{\"homogeneousCluster\":{\"hosts\":[\"algo-1\"],\"instance_group_name\":\"homogeneousCluster\",\"instance_type\":\"ml.g4dn.xlarge\"}},\"is_hetero\":false,\"is_master\":true,\"is_modelparallel_enabled\":null,\"job_name\":\"isic-resnet-v2-finetune-2024-03-12-18-55-50-248\",\"log_level\":20,\"master_hostname\":\"algo-1\",\"model_dir\":\"/opt/ml/model\",\"module_dir\":\"s3://jumpstart-cache-prod-us-west-2/source-directory-tarballs/tensorflow/transfer_learning/ic/prepack/v1.1.2/sourcedir.tar.gz\",\"module_name\":\"transfer_learning\",\"network_interface_name\":\"eth0\",\"num_cpus\":4,\"num_gpus\":1,\"output_data_dir\":\"/opt/ml/output/data\",\"output_dir\":\"/opt/ml/output\",\"output_intermediate_dir\":\"/opt/ml/output/intermediate\",\"resource_config\":{\"current_group_name\":\"homogeneousCluster\",\"current_host\":\"algo-1\",\"current_instance_type\":\"ml.g4dn.xlarge\",\"hosts\":[\"algo-1\"],\"instance_groups\":[{\"hosts\":[\"algo-1\"],\"instance_group_name\":\"homogeneousCluster\",\"instance_type\":\"ml.g4dn.xlarge\"}],\"network_interface_name\":\"eth0\"},\"user_entry_point\":\"transfer_learning.py\"}\u001b[0m\n",
      "\u001b[34mSM_USER_ARGS=[\"--augmentation\",\"True\",\"--augmentation_random_flip\",\"horizontal_and_vertical\",\"--augmentation_random_rotation\",\"0.2\",\"--augmentation_random_zoom\",\"0.1\",\"--batch_size\",\"32\",\"--beta_1\",\"0.9\",\"--beta_2\",\"0.999\",\"--binary_mode\",\"False\",\"--dropout_rate\",\"0.2\",\"--early_stopping\",\"False\",\"--early_stopping_min_delta\",\"0.0\",\"--early_stopping_patience\",\"5\",\"--epochs\",\"10\",\"--epsilon\",\"1e-07\",\"--eval_metric\",\"accuracy\",\"--image_resize_interpolation\",\"bilinear\",\"--initial_accumulator_value\",\"0.1\",\"--label_smoothing\",\"0.1\",\"--learning_rate\",\"0.001\",\"--momentum\",\"0.9\",\"--optimizer\",\"adam\",\"--random_seed\",\"123\",\"--regularizers_l2\",\"0.0001\",\"--reinitialize_top_layer\",\"Auto\",\"--rho\",\"0.95\",\"--train_only_top_layer\",\"True\",\"--validation_split_ratio\",\"0.2\"]\u001b[0m\n",
      "\u001b[34mSM_OUTPUT_INTERMEDIATE_DIR=/opt/ml/output/intermediate\u001b[0m\n",
      "\u001b[34mSM_CHANNEL_MODEL=/opt/ml/input/data/model\u001b[0m\n",
      "\u001b[34mSM_CHANNEL_TRAINING=/opt/ml/input/data/training\u001b[0m\n",
      "\u001b[34mSM_HP_AUGMENTATION=true\u001b[0m\n",
      "\u001b[34mSM_HP_AUGMENTATION_RANDOM_FLIP=horizontal_and_vertical\u001b[0m\n",
      "\u001b[34mSM_HP_AUGMENTATION_RANDOM_ROTATION=0.2\u001b[0m\n",
      "\u001b[34mSM_HP_AUGMENTATION_RANDOM_ZOOM=0.1\u001b[0m\n",
      "\u001b[34mSM_HP_BATCH_SIZE=32\u001b[0m\n",
      "\u001b[34mSM_HP_BETA_1=0.9\u001b[0m\n",
      "\u001b[34mSM_HP_BETA_2=0.999\u001b[0m\n",
      "\u001b[34mSM_HP_BINARY_MODE=False\u001b[0m\n",
      "\u001b[34mSM_HP_DROPOUT_RATE=0.2\u001b[0m\n",
      "\u001b[34mSM_HP_EARLY_STOPPING=False\u001b[0m\n",
      "\u001b[34mSM_HP_EARLY_STOPPING_MIN_DELTA=0.0\u001b[0m\n",
      "\u001b[34mSM_HP_EARLY_STOPPING_PATIENCE=5\u001b[0m\n",
      "\u001b[34mSM_HP_EPOCHS=10\u001b[0m\n",
      "\u001b[34mSM_HP_EPSILON=1e-07\u001b[0m\n",
      "\u001b[34mSM_HP_EVAL_METRIC=accuracy\u001b[0m\n",
      "\u001b[34mSM_HP_IMAGE_RESIZE_INTERPOLATION=bilinear\u001b[0m\n",
      "\u001b[34mSM_HP_INITIAL_ACCUMULATOR_VALUE=0.1\u001b[0m\n",
      "\u001b[34mSM_HP_LABEL_SMOOTHING=0.1\u001b[0m\n",
      "\u001b[34mSM_HP_LEARNING_RATE=0.001\u001b[0m\n",
      "\u001b[34mSM_HP_MOMENTUM=0.9\u001b[0m\n",
      "\u001b[34mSM_HP_OPTIMIZER=adam\u001b[0m\n",
      "\u001b[34mSM_HP_RANDOM_SEED=123\u001b[0m\n",
      "\u001b[34mSM_HP_REGULARIZERS_L2=0.0001\u001b[0m\n",
      "\u001b[34mSM_HP_REINITIALIZE_TOP_LAYER=Auto\u001b[0m\n",
      "\u001b[34mSM_HP_RHO=0.95\u001b[0m\n",
      "\u001b[34mSM_HP_TRAIN_ONLY_TOP_LAYER=True\u001b[0m\n",
      "\u001b[34mSM_HP_VALIDATION_SPLIT_RATIO=0.2\u001b[0m\n",
      "\u001b[34mPYTHONPATH=/opt/ml/code:/usr/local/bin:/usr/local/lib/python39.zip:/usr/local/lib/python3.9:/usr/local/lib/python3.9/lib-dynload:/usr/local/lib/python3.9/site-packages:/usr/local/lib/python3.9/site-packages/smdebug-1.0.26b20230119-py3.9.egg:/usr/local/lib/python3.9/site-packages/pyinstrument-3.4.2-py3.9.egg:/usr/local/lib/python3.9/site-packages/pyinstrument_cext-0.2.4-py3.9-linux-x86_64.egg\u001b[0m\n",
      "\u001b[34mInvoking script with the following command:\u001b[0m\n",
      "\u001b[34m/usr/local/bin/python3.9 transfer_learning.py --augmentation True --augmentation_random_flip horizontal_and_vertical --augmentation_random_rotation 0.2 --augmentation_random_zoom 0.1 --batch_size 32 --beta_1 0.9 --beta_2 0.999 --binary_mode False --dropout_rate 0.2 --early_stopping False --early_stopping_min_delta 0.0 --early_stopping_patience 5 --epochs 10 --epsilon 1e-07 --eval_metric accuracy --image_resize_interpolation bilinear --initial_accumulator_value 0.1 --label_smoothing 0.1 --learning_rate 0.001 --momentum 0.9 --optimizer adam --random_seed 123 --regularizers_l2 0.0001 --reinitialize_top_layer Auto --rho 0.95 --train_only_top_layer True --validation_split_ratio 0.2\u001b[0m\n",
      "\u001b[34mExtension horovod.torch has not been built: /usr/local/lib/python3.9/site-packages/horovod/torch/mpi_lib/_mpi_lib.cpython-39-x86_64-linux-gnu.so not found\u001b[0m\n",
      "\u001b[34mIf this is not expected, reinstall Horovod with HOROVOD_WITH_PYTORCH=1 to debug the build error.\u001b[0m\n",
      "\u001b[34mWarning! MPI libs are missing, but python applications are still available.\u001b[0m\n",
      "\u001b[34mInstalling dependencies from /opt/ml/code/tensorflow_requirements.txt\u001b[0m\n",
      "\u001b[34mWARNING: Running pip as the 'root' user can result in broken permissions and conflicting behaviour with the system package manager. It is recommended to use a virtual environment instead: https://pip.pypa.io/warnings/venv\u001b[0m\n",
      "\u001b[34m[notice] A new release of pip available: 22.3.1 -> 24.0\u001b[0m\n",
      "\u001b[34m[notice] To update, run: pip install --upgrade pip\u001b[0m\n",
      "\u001b[34mProcessing ./lib/sagemaker_jumpstart_script_utilities/sagemaker_jumpstart_script_utilities-1.1.1-py2.py3-none-any.whl\u001b[0m\n",
      "\u001b[34mProcessing ./lib/sagemaker_jumpstart_prepack_script_utilities/sagemaker_jumpstart_prepack_script_utilities-1.0.0-py2.py3-none-any.whl\u001b[0m\n",
      "\u001b[34mProcessing ./lib/sagemaker_jumpstart_tensorflow_script_utilities/sagemaker_jumpstart_tensorflow_script_utilities-1.0.1-py2.py3-none-any.whl\u001b[0m\n",
      "\u001b[34mInstalling collected packages: sagemaker-jumpstart-tensorflow-script-utilities, sagemaker-jumpstart-script-utilities, sagemaker-jumpstart-prepack-script-utilities\u001b[0m\n",
      "\u001b[34mSuccessfully installed sagemaker-jumpstart-prepack-script-utilities-1.0.0 sagemaker-jumpstart-script-utilities-1.1.1 sagemaker-jumpstart-tensorflow-script-utilities-1.0.1\u001b[0m\n",
      "\u001b[34m2024-03-12 19:00:24.005893: W tensorflow/core/profiler/internal/smprofiler_timeline.cc:460] Initializing the SageMaker Profiler.\u001b[0m\n",
      "\u001b[34m2024-03-12 19:00:24.006044: W tensorflow/core/profiler/internal/smprofiler_timeline.cc:105] SageMaker Profiler is not enabled. The timeline writer thread will not be started, future recorded events will be dropped.\u001b[0m\n",
      "\u001b[34m2024-03-12 19:00:24.044780: W tensorflow/core/profiler/internal/smprofiler_timeline.cc:460] Initializing the SageMaker Profiler.\u001b[0m\n",
      "\u001b[34mRunning training scripts with TensorFlowCallbackConfig arguments: TensorFlowCallbackConfig(checkpoint_save_best_only=True, early_stopping=False, early_stopping_patience=5, early_stopping_min_delta=0.0)\u001b[0m\n",
      "\u001b[34mRunning training scripts with TensorFlowTrainerConfig arguments: TensorFlowTrainerConfig(batch_size=32, epochs=10, eval_metric=<EvalMetric.ACCURACY: 'accuracy'>, random_seed=123, verbose_one_line_per_epoch=2, train_only_top_layer=True)\u001b[0m\n",
      "\u001b[34mRunning training scripts with TensorFlowOptimizerConfig arguments: TensorFlowOptimizerConfig(optimizer=<OptimizerType.ADAM: 'adam'>, learning_rate=0.001, beta_1=0.9, beta_2=0.999, epsilon=1e-07, momentum=0.9, rho=0.95, initial_accumulator_value=0.1)\u001b[0m\n",
      "\u001b[34mRunning training scripts with SageMakerConfig arguments: SageMakerConfig(model_dir=PosixPath('/opt/ml/model'), module_dir='s3://jumpstart-cache-prod-us-west-2/source-directory-tarballs/tensorflow/transfer_learning/ic/prepack/v1.1.2/sourcedir.tar.gz', train=PosixPath('/opt/ml/input/data/training'), validation=None, test=None, pretrained_model='/opt/ml/input/data/model', hosts=['algo-1'], current_host='algo-1')\u001b[0m\n",
      "\u001b[34mRunning training scripts with TensorFlowImageClassificationConfig arguments: TensorFlowImageClassificationConfig(reinitialize_top_layer=<BoolAuto.AUTO: 'Auto'>, validation_split_ratio=0.2, dropout_rate=0.2, regularizers_l2=0.0001, label_smoothing=0.1, image_resize_interpolation=<ImageResizeInterpolationMethod.BILINEAR: 'bilinear'>, augmentation=True, augmentation_random_flip=<ImageFlipMode.HORIZONTAL_AND_VERTICAL: 'horizontal_and_vertical'>, augmentation_random_rotation=0.2, augmentation_random_zoom=0.1, binary_mode=False)\u001b[0m\n",
      "\u001b[34mThe script tarball for this training job can be downloaded via:\u001b[0m\n",
      "\u001b[34m$ aws s3 cp s3://jumpstart-cache-prod-us-west-2/source-directory-tarballs/tensorflow/transfer_learning/ic/prepack/v1.1.2/sourcedir.tar.gz .\u001b[0m\n",
      "\u001b[34mCreating datasets using categorical mode for label encodings.\u001b[0m\n",
      "\u001b[34mImages for this model will be resized to image size: [224, 224]\u001b[0m\n",
      "\u001b[34mFound 51956 files belonging to 9 classes.\u001b[0m\n",
      "\u001b[34mNo Test channel provided. Performance evaluations on test dataset will be skipped.\u001b[0m\n",
      "\u001b[34mClass index to class name mapping: {0: 'actinic keratoses', 1: 'basal cell carcinoma', 2: 'dermatofibroma', 3: 'keratosis', 4: 'melanoma', 5: 'nevus', 6: 'squamous cell carcinoma', 7: 'unknown', 8: 'vascular skin'}\u001b[0m\n",
      "\u001b[34mCardinality of train dataset: 41565\u001b[0m\n",
      "\u001b[34mNumber of class examples in train dataset: {'actinic keratoses': 625, 'basal cell carcinoma': 2439, 'dermatofibroma': 166, 'keratosis': 1870, 'melanoma': 3675, 'nevus': 12991, 'squamous cell carcinoma': 454, 'unknown': 19161, 'vascular skin': 184}\u001b[0m\n",
      "\u001b[34mCardinality of validation dataset: 10391\u001b[0m\n",
      "\u001b[34mNumber of class examples in validation dataset: {'actinic keratoses': 147, 'basal cell carcinoma': 533, 'dermatofibroma': 50, 'keratosis': 476, 'melanoma': 903, 'nevus': 3255, 'squamous cell carcinoma': 111, 'unknown': 4874, 'vascular skin': 42}\u001b[0m\n",
      "\u001b[34mLoading the original pre-trained feature extraction model, and attaching a randomly initialized classification layer to classify input images to one of the 9 classes.\u001b[0m\n",
      "\u001b[34mSetting model to train only top layer.\u001b[0m\n",
      "\u001b[34mSince there are 9 > 5 labels, the metric top_5_accuracy will be computed.\u001b[0m\n",
      "\u001b[34mSetting the evaluation metric to val_accuracy.\u001b[0m\n",
      "\u001b[34mModel information:\u001b[0m\n",
      "\u001b[34m- Number of trainable parameters: 18441\u001b[0m\n",
      "\u001b[34m- Number of non-trainable parameters: 42626560\u001b[0m\n",
      "\u001b[34m- Number of parameters: 42645001\u001b[0m\n",
      "\u001b[34mEpoch 1/10\u001b[0m\n",
      "\u001b[34mExtension horovod.torch has not been built: /usr/local/lib/python3.9/site-packages/horovod/torch/mpi_lib/_mpi_lib.cpython-39-x86_64-linux-gnu.so not found\u001b[0m\n",
      "\u001b[34mIf this is not expected, reinstall Horovod with HOROVOD_WITH_PYTORCH=1 to debug the build error.\u001b[0m\n",
      "\u001b[34mWarning! MPI libs are missing, but python applications are still available.\u001b[0m\n",
      "\u001b[34m[2024-03-12 19:00:53.567 ip-10-0-136-82.us-west-2.compute.internal:29 INFO utils.py:28] RULE_JOB_STOP_SIGNAL_FILENAME: None\u001b[0m\n",
      "\u001b[34m/usr/local/lib/python3.9/site-packages/smdebug-1.0.26b20230119-py3.9.egg/smdebug/profiler/system_metrics_reader.py:78: SyntaxWarning: \"is not\" with a literal. Did you mean \"!=\"?\u001b[0m\n",
      "\u001b[34m/usr/local/lib/python3.9/site-packages/smdebug-1.0.26b20230119-py3.9.egg/smdebug/profiler/system_metrics_reader.py:78: SyntaxWarning: \"is not\" with a literal. Did you mean \"!=\"?\u001b[0m\n",
      "\u001b[34m[2024-03-12 19:00:53.811 ip-10-0-136-82.us-west-2.compute.internal:29 INFO profiler_config_parser.py:111] User has disabled profiler.\u001b[0m\n",
      "\u001b[34m[2024-03-12 19:00:53.834 ip-10-0-136-82.us-west-2.compute.internal:29 INFO json_config.py:92] Creating hook from json_config at /opt/ml/input/config/debughookconfig.json.\u001b[0m\n",
      "\u001b[34m[2024-03-12 19:00:53.834 ip-10-0-136-82.us-west-2.compute.internal:29 INFO hook.py:206] tensorboard_dir has not been set for the hook. SMDebug will not be exporting tensorboard summaries.\u001b[0m\n",
      "\u001b[34m[2024-03-12 19:00:53.835 ip-10-0-136-82.us-west-2.compute.internal:29 INFO hook.py:259] Saving to /opt/ml/output/tensors\u001b[0m\n",
      "\u001b[34m[2024-03-12 19:00:53.835 ip-10-0-136-82.us-west-2.compute.internal:29 INFO state_store.py:77] The checkpoint config file /opt/ml/input/config/checkpointconfig.json does not exist.\u001b[0m\n",
      "\u001b[34m[2024-03-12 19:00:53.835 ip-10-0-136-82.us-west-2.compute.internal:29 INFO hook.py:427] Monitoring the collections: sm_metrics, metrics, losses\u001b[0m\n",
      "\u001b[34m1299/1299 - 357s - loss: 1.2367 - accuracy: 0.6797 - top_5_accuracy: 0.9697 - val_loss: 1.1199 - val_accuracy: 0.7175 - val_top_5_accuracy: 0.9770 - 357s/epoch - 275ms/step\u001b[0m\n",
      "\u001b[34mEpoch 2/10\u001b[0m\n",
      "\u001b[34m1299/1299 - 301s - loss: 1.1635 - accuracy: 0.7079 - top_5_accuracy: 0.9768 - val_loss: 1.1215 - val_accuracy: 0.7161 - val_top_5_accuracy: 0.9814 - 301s/epoch - 232ms/step\u001b[0m\n",
      "\u001b[34mEpoch 3/10\u001b[0m\n",
      "\u001b[34m1299/1299 - 298s - loss: 1.1523 - accuracy: 0.7128 - top_5_accuracy: 0.9784 - val_loss: 1.0890 - val_accuracy: 0.7322 - val_top_5_accuracy: 0.9814 - 298s/epoch - 229ms/step\u001b[0m\n",
      "\u001b[34mEpoch 4/10\u001b[0m\n",
      "\u001b[34m1299/1299 - 300s - loss: 1.1529 - accuracy: 0.7121 - top_5_accuracy: 0.9782 - val_loss: 1.1212 - val_accuracy: 0.7182 - val_top_5_accuracy: 0.9782 - 300s/epoch - 231ms/step\u001b[0m\n",
      "\u001b[34mEpoch 5/10\u001b[0m\n",
      "\u001b[34m1299/1299 - 299s - loss: 1.1448 - accuracy: 0.7136 - top_5_accuracy: 0.9798 - val_loss: 1.1083 - val_accuracy: 0.7254 - val_top_5_accuracy: 0.9832 - 299s/epoch - 230ms/step\u001b[0m\n",
      "\u001b[34mEpoch 6/10\u001b[0m\n",
      "\u001b[34m1299/1299 - 297s - loss: 1.1500 - accuracy: 0.7150 - top_5_accuracy: 0.9780 - val_loss: 1.1066 - val_accuracy: 0.7251 - val_top_5_accuracy: 0.9794 - 297s/epoch - 229ms/step\u001b[0m\n",
      "\u001b[34mEpoch 7/10\u001b[0m\n",
      "\u001b[34m1299/1299 - 298s - loss: 1.1486 - accuracy: 0.7164 - top_5_accuracy: 0.9789 - val_loss: 1.1128 - val_accuracy: 0.7181 - val_top_5_accuracy: 0.9813 - 298s/epoch - 230ms/step\u001b[0m\n",
      "\u001b[34mEpoch 8/10\u001b[0m\n",
      "\u001b[34m1299/1299 - 303s - loss: 1.1429 - accuracy: 0.7190 - top_5_accuracy: 0.9802 - val_loss: 1.0919 - val_accuracy: 0.7310 - val_top_5_accuracy: 0.9817 - 303s/epoch - 233ms/step\u001b[0m\n",
      "\u001b[34mEpoch 9/10\u001b[0m\n",
      "\u001b[34m1299/1299 - 301s - loss: 1.1506 - accuracy: 0.7130 - top_5_accuracy: 0.9788 - val_loss: 1.1614 - val_accuracy: 0.7096 - val_top_5_accuracy: 0.9799 - 301s/epoch - 232ms/step\u001b[0m\n",
      "\u001b[34mEpoch 10/10\u001b[0m\n",
      "\u001b[34m1299/1299 - 300s - loss: 1.1447 - accuracy: 0.7137 - top_5_accuracy: 0.9799 - val_loss: 1.1376 - val_accuracy: 0.7203 - val_top_5_accuracy: 0.9745 - 300s/epoch - 231ms/step\u001b[0m\n",
      "\u001b[34mSetting weights to model with maximum val_accuracy at epoch 3/10:\u001b[0m\n",
      "\u001b[34m- loss: 1.1522611379623413\u001b[0m\n",
      "\u001b[34m- accuracy: 0.7127872109413147\u001b[0m\n",
      "\u001b[34m- top_5_accuracy: 0.9783712029457092\u001b[0m\n",
      "\u001b[34m- val_loss: 1.089036226272583\u001b[0m\n",
      "\u001b[34m- val_accuracy: 0.7321720719337463\u001b[0m\n",
      "\u001b[34m- val_top_5_accuracy: 0.9814262390136719\u001b[0m\n",
      "\u001b[34mTraining summary:\u001b[0m\n",
      "\u001b[34m- Total duration: 3055.6616131849996 seconds\u001b[0m\n",
      "\u001b[34m- Total training duration: 2566.026832033023 seconds\u001b[0m\n",
      "\u001b[34m- Total validation duration: 440.41426135599977 seconds\u001b[0m\n",
      "\u001b[34m- Average duration per epoch: 305.56616131849995 seconds\u001b[0m\n",
      "\u001b[34m- Average duration per step: 0.23523184089183985 seconds\u001b[0m\n",
      "\u001b[34m- Average training duration per epoch: 256.60268320330226 seconds\u001b[0m\n",
      "\u001b[34m- Average training duration per step: 0.1975386321811411 seconds\u001b[0m\n",
      "\u001b[34m- Average validation duration per epoch: 44.04142613559998 seconds\u001b[0m\n",
      "\u001b[34m- Average validation duration per step: 0.1355120804172307 seconds\u001b[0m\n",
      "\u001b[34mNo test dataset available. Provide test dataset to compute test performance metrics.\u001b[0m\n",
      "\u001b[34mSaving the model with the highest val_accuracy for running inference or incremental training.\u001b[0m\n",
      "\u001b[34mWARNING:tensorflow:From /usr/local/lib/python3.9/site-packages/tensorflow/python/util/deprecation.py:629: calling map_fn_v2 (from tensorflow.python.ops.map_fn) with dtype is deprecated and will be removed in a future version.\u001b[0m\n",
      "\u001b[34mInstructions for updating:\u001b[0m\n",
      "\u001b[34mUse fn_output_signature instead\u001b[0m\n",
      "\u001b[34mFrom /usr/local/lib/python3.9/site-packages/tensorflow/python/util/deprecation.py:629: calling map_fn_v2 (from tensorflow.python.ops.map_fn) with dtype is deprecated and will be removed in a future version.\u001b[0m\n",
      "\u001b[34mInstructions for updating:\u001b[0m\n",
      "\u001b[34mUse fn_output_signature instead\u001b[0m\n",
      "\n",
      "2024-03-12 19:52:12 Uploading - Uploading generated training model\u001b[34mINFO:tensorflow:Assets written to: /opt/ml/model/1/assets\u001b[0m\n",
      "\u001b[34mAssets written to: /opt/ml/model/1/assets\u001b[0m\n",
      "\u001b[34m2024-03-12 19:52:03,374 sagemaker-training-toolkit INFO     Waiting for the process to finish and give a return code.\u001b[0m\n",
      "\u001b[34m2024-03-12 19:52:03,374 sagemaker-training-toolkit INFO     Done waiting for a return code. Received 0 from exiting process.\u001b[0m\n",
      "\u001b[34m2024-03-12 19:52:03,375 sagemaker-training-toolkit INFO     Reporting training SUCCESS\u001b[0m\n",
      "\n",
      "2024-03-12 19:52:23 Completed - Training job completed\n",
      "Training seconds: 3343\n",
      "Billable seconds: 3343\n"
     ]
    }
   ],
   "source": [
    "# Create SageMaker Estimator instance\n",
    "tf_ic_estimator = Estimator(\n",
    "    role=aws_role,\n",
    "    image_uri=train_image_uri,\n",
    "    source_dir=train_source_uri,\n",
    "    model_uri=train_model_uri,\n",
    "    entry_point=\"transfer_learning.py\",\n",
    "    instance_count=1,\n",
    "    instance_type=training_instance_type,\n",
    "    max_run=360000,\n",
    "    hyperparameters=hyperparameters,\n",
    "    output_path=s3_output_location,\n",
    "    base_job_name=training_job_name,\n",
    "    disable_output_compression=True\n",
    ")\n",
    "\n",
    "# Use S3 path of the training data to launch SageMaker TrainingJob\n",
    "tf_ic_estimator.fit({\"training\": training_dataset_s3_path}, logs=True)"
   ]
  },
  {
   "cell_type": "markdown",
   "id": "2d20dc1a-60e5-44d2-8156-f1282d11b456",
   "metadata": {},
   "source": [
    "### Parse logs and display accuracy/loss curves"
   ]
  },
  {
   "cell_type": "code",
   "execution_count": 80,
   "id": "f1a3c366-97ec-4d0b-b84b-dd44f16a5739",
   "metadata": {
    "tags": []
   },
   "outputs": [],
   "source": [
    "from SageMaker_utils import show_training_metrics"
   ]
  },
  {
   "cell_type": "code",
   "execution_count": 83,
   "id": "10afb187-20a5-4309-8481-78bfc3e7381e",
   "metadata": {
    "tags": []
   },
   "outputs": [],
   "source": [
    "# Capture container logs stream in string variable\n",
    "from contextlib import redirect_stdout\n",
    "from io import StringIO\n",
    "\n",
    "catcher = StringIO()\n",
    "with redirect_stdout(catcher):\n",
    "     exec('tf_ic_estimator.logs()')\n",
    "logs = catcher.getvalue()"
   ]
  },
  {
   "cell_type": "code",
   "execution_count": 84,
   "id": "cf8f2b23-2e91-4bee-80e9-35d10817dea3",
   "metadata": {
    "tags": []
   },
   "outputs": [
    {
     "name": "stdout",
     "output_type": "stream",
     "text": [
      "Epoch 1\n",
      " \u001b[34m1299/1299 - 357s - loss: 1.2367 - accuracy: 0.6797 - top_5_accuracy: 0.9697 - val_loss: 1.1199 - val_accuracy: 0.7175 - val_top_5_accuracy: 0.9770 - 357s/epoch - 275ms/step\u001b[0m\n",
      "\u001b[34mEpoch 2/10\u001b[0m\n",
      "\u001b[34m1299/1299 - 301s - loss: 1.1635 - accuracy: 0.7079 - top_5_accuracy: 0.9768 - val_loss: 1.1215 - val_accuracy: 0.7161 - val_top_5_accuracy: 0.9814 - 301s/epoch - 232ms/step\u001b[0m\n",
      "\u001b[34mEpoch 3/10\u001b[0m\n",
      "\u001b[34m1299/1299 - 298s - loss: 1.1523 - accuracy: 0.7128 - top_5_accuracy: 0.9784 - val_loss: 1.0890 - val_accuracy: 0.7322 - val_top_5_accuracy: 0.9814 - 298s/epoch - 229ms/step\u001b[0m\n",
      "\u001b[34mEpoch 4/10\u001b[0m\n",
      "\u001b[34m1299/1299 - 300s - loss: 1.1529 - accuracy: 0.7121 - top_5_accuracy: 0.9782 - val_loss: 1.1212 - val_accuracy: 0.7182 - val_top_5_accuracy: 0.9782 - 300s/epoch - 231ms/step\u001b[0m\n",
      "\u001b[34mEpoch 5/10\u001b[0m\n",
      "\u001b[34m1299/1299 - 299s - loss: 1.1448 - accuracy: 0.7136 - top_5_accuracy: 0.9798 - val_loss: 1.1083 - val_accuracy: 0.7254 - val_top_5_accuracy: 0.9832 - 299s/epoch - 230ms/step\u001b[0m\n",
      "\u001b[34mEpoch 6/10\u001b[0m\n",
      "\u001b[34m1299/1299 - 297s - loss: 1.1500 - accuracy: 0.7150 - top_5_accuracy: 0.9780 - val_loss: 1.1066 - val_accuracy: 0.7251 - val_top_5_accuracy: 0.9794 - 297s/epoch - 229ms/step\u001b[0m\n",
      "\u001b[34mEpoch 7/10\u001b[0m\n",
      "\u001b[34m1299/1299 - 298s - loss: 1.1486 - accuracy: 0.7164 - top_5_accuracy: 0.9789 - val_loss: 1.1128 - val_accuracy: 0.7181 - val_top_5_accuracy: 0.9813 - 298s/epoch - 230ms/step\u001b[0m\n",
      "\u001b[34mEpoch 8/10\u001b[0m\n",
      "\u001b[34m1299/1299 - 303s - loss: 1.1429 - accuracy: 0.7190 - top_5_accuracy: 0.9802 - val_loss: 1.0919 - val_accuracy: 0.7310 - val_top_5_accuracy: 0.9817 - 303s/epoch - 233ms/step\u001b[0m\n",
      "\u001b[34mEpoch 9/10\u001b[0m\n",
      "\u001b[34m1299/1299 - 301s - loss: 1.1506 - accuracy: 0.7130 - top_5_accuracy: 0.9788 - val_loss: 1.1614 - val_accuracy: 0.7096 - val_top_5_accuracy: 0.9799 - 301s/epoch - 232ms/step\u001b[0m\n",
      "\u001b[34mEpoch 10/10\u001b[0m\n",
      "\u001b[34m1299/1299 - 300s - loss: 1.1447 - accuracy: 0.7137 - top_5_accuracy: 0.9799 - val_loss: 1.1376 - val_accuracy: 0.7203 - val_top_5_accuracy: 0.9745 - 300s/epoch - 231ms/step\u001b[0m\n",
      "\u001b[34m\n"
     ]
    },
    {
     "data": {
      "image/png": "[encoded data removed]",
      "text/plain": [
       "<Figure size 1000x400 with 2 Axes>"
      ]
     },
     "metadata": {},
     "output_type": "display_data"
    }
   ],
   "source": [
    "show_training_metrics(logs)"
   ]
  },
  {
   "cell_type": "markdown",
   "id": "39af5fcb-c975-42a9-af07-ba9cb71ac34f",
   "metadata": {},
   "source": [
    "### Deploy model for inference"
   ]
  },
  {
   "cell_type": "code",
   "execution_count": 94,
   "id": "e9f1de1d-3877-455a-81be-c6f2580ae31e",
   "metadata": {},
   "outputs": [
    {
     "name": "stderr",
     "output_type": "stream",
     "text": [
      "WARNING:root:ModelDataSource currently doesn't support model repacking\n",
      "INFO:sagemaker:Creating model with name: sagemaker-jumpstart-2024-03-12-20-29-13-197\n",
      "INFO:sagemaker:Creating endpoint-config with name isic-resnet-v2-finetune--2024-03-12-20-29-13-197\n",
      "INFO:sagemaker:Creating endpoint with name isic-resnet-v2-finetune--2024-03-12-20-29-13-197\n"
     ]
    },
    {
     "name": "stdout",
     "output_type": "stream",
     "text": [
      "----------!"
     ]
    }
   ],
   "source": [
    "from sagemaker.utils import name_from_base\n",
    "\n",
    "inference_instance_type = \"ml.g4dn.xlarge\"\n",
    "\n",
    "# Retrieve the inference docker container uri\n",
    "deploy_image_uri = image_uris.retrieve(\n",
    "    region=None,\n",
    "    framework=None,\n",
    "    image_scope=\"inference\",\n",
    "    model_id=model_id,\n",
    "    model_version=model_version,\n",
    "    instance_type=inference_instance_type,\n",
    ")\n",
    "# Retrieve the inference script uri\n",
    "deploy_source_uri = script_uris.retrieve(\n",
    "    model_id=model_id, model_version=model_version, script_scope=\"inference\"\n",
    ")\n",
    "\n",
    "endpoint_name = name_from_base(f\"{training_job_name}-\")\n",
    "\n",
    "# Use the estimator from the previous step to deploy to a SageMaker endpoint\n",
    "finetuned_predictor = tf_ic_estimator.deploy(\n",
    "    initial_instance_count=1,\n",
    "    instance_type=inference_instance_type,\n",
    "    entry_point=\"inference.py\",\n",
    "    image_uri=deploy_image_uri,\n",
    "    source_dir=deploy_source_uri,\n",
    "    endpoint_name=endpoint_name,\n",
    ")"
   ]
  },
  {
   "cell_type": "markdown",
   "id": "fff17461-c218-4772-abce-402086e6fdd1",
   "metadata": {},
   "source": [
    "# "
   ]
  },
  {
   "cell_type": "code",
   "execution_count": 96,
   "id": "279395a9-48a6-4af7-a893-fcdd3ca3c505",
   "metadata": {
    "tags": []
   },
   "outputs": [],
   "source": [
    "s3 = boto3.resource('s3', region_name=aws_region)\n",
    "bucket = s3.Bucket('isicbucket')"
   ]
  },
  {
   "cell_type": "code",
   "execution_count": 115,
   "id": "475666ed-71b7-42f2-b3cf-0c0c5eae9782",
   "metadata": {
    "tags": []
   },
   "outputs": [],
   "source": [
    "from PIL import Image\n",
    "from io import BytesIO\n",
    "import numpy as np\n",
    "\n",
    "def read_image_from_s3_as_bytes(key, bucket):\n",
    "    \"\"\"Load image file from s3.\n",
    "\n",
    "    Parameters\n",
    "    ----------\n",
    "    bucket: string\n",
    "        Bucket name\n",
    "    key : string\n",
    "        Path in s3\n",
    "\n",
    "    Returns\n",
    "    -------\n",
    "    np array\n",
    "        Image array\n",
    "    \"\"\"\n",
    "    \n",
    "    object = bucket.Object(key)\n",
    "    response = object.get()\n",
    "    file_stream = response['Body']\n",
    "    im = Image.open(file_stream)\n",
    "    buffer = BytesIO()\n",
    "    im.save(buffer, format='JPEG')\n",
    "    byte_im = buffer.getvalue()\n",
    "\n",
    "    return byte_im"
   ]
  },
  {
   "cell_type": "markdown",
   "id": "80fd7570-0517-41ff-b1b7-70d22314ca5e",
   "metadata": {},
   "source": [
    "### Show confusion matrix"
   ]
  },
  {
   "cell_type": "code",
   "execution_count": 98,
   "id": "bdf247dc-9176-4377-85d6-775314f3ee4a",
   "metadata": {
    "tags": []
   },
   "outputs": [],
   "source": [
    "from seaborn import heatmap\n",
    "from sklearn.metrics import confusion_matrix, classification_report"
   ]
  },
  {
   "cell_type": "code",
   "execution_count": 99,
   "id": "67aa27db-1ae3-4d51-83de-5d74085b94c2",
   "metadata": {
    "tags": []
   },
   "outputs": [],
   "source": [
    "def plot_heat_map(confusion_mat):\n",
    "    \"\"\"Plot a confusion matrix as a seaborn heatmap.\"\"\"\n",
    "    \n",
    "    heat_map = heatmap(confusion_mat, \n",
    "                       annot=True, \n",
    "                       fmt='.3g', \n",
    "                       cmap='Blues',\n",
    "                       #xticklabels=CLASS_NAMES_LONG, \n",
    "                       #yticklabels=CLASS_NAMES_LONG, \n",
    "                       cbar=False)\n",
    "    heat_map.set(xlabel='Predicted Label', ylabel='True Label')\n"
   ]
  },
  {
   "cell_type": "code",
   "execution_count": 114,
   "id": "a42b32bd-e3a0-44d6-93b8-1a8ac9ee2ce4",
   "metadata": {
    "tags": []
   },
   "outputs": [
    {
     "data": {
      "text/plain": [
       "{'probabilities': [0.170433238,\n",
       "  0.638382494,\n",
       "  0.00569340121,\n",
       "  0.02269415,\n",
       "  0.00716251461,\n",
       "  0.00309727341,\n",
       "  0.138120577,\n",
       "  0.0119343018,\n",
       "  0.00248200842],\n",
       " 'labels': ['actinic keratoses',\n",
       "  'basal cell carcinoma',\n",
       "  'dermatofibroma',\n",
       "  'keratosis',\n",
       "  'melanoma',\n",
       "  'nevus',\n",
       "  'squamous cell carcinoma',\n",
       "  'unknown',\n",
       "  'vascular skin'],\n",
       " 'predicted_label': 'basal cell carcinoma'}"
      ]
     },
     "execution_count": 114,
     "metadata": {},
     "output_type": "execute_result"
    }
   ],
   "source": [
    "img = read_image_from_s3_as_bytes(\"preprocessed/train_preprocess_ps_224_new/actinic keratoses/ISIC_0024468.jpg\", bucket)\n",
    "query_response = finetuned_predictor.predict(\n",
    "    img, {\"ContentType\": \"application/x-image\", \"Accept\": \"application/json;verbose\"}\n",
    ")\n",
    "model_predictions = json.loads(query_response)\n",
    "predicted_label = model_predictions[\"predicted_label\"]\n",
    "model_predictions"
   ]
  },
  {
   "cell_type": "markdown",
   "id": "c12b4b85-c45e-4f28-b96a-0f412ff20ce6",
   "metadata": {},
   "source": [
    "## Clean up endpoint"
   ]
  },
  {
   "cell_type": "code",
   "execution_count": 117,
   "id": "90f34e3a-f143-4029-98d6-5689953ef66c",
   "metadata": {},
   "outputs": [
    {
     "name": "stderr",
     "output_type": "stream",
     "text": [
      "INFO:sagemaker:Deleting endpoint configuration with name: isic-resnet-v2-finetune--2024-03-12-20-29-13-197\n",
      "INFO:sagemaker:Deleting endpoint with name: isic-resnet-v2-finetune--2024-03-12-20-29-13-197\n"
     ]
    }
   ],
   "source": [
    "finetuned_predictor.delete_endpoint()"
   ]
  },
  {
   "cell_type": "code",
   "execution_count": null,
   "id": "6b66820a-ddc0-44d2-9cde-da47693264f7",
   "metadata": {},
   "outputs": [],
   "source": []
  }
 ],
 "metadata": {
  "availableInstances": [
   {
    "_defaultOrder": 0,
    "_isFastLaunch": true,
    "category": "General purpose",
    "gpuNum": 0,
    "hideHardwareSpecs": false,
    "memoryGiB": 4,
    "name": "ml.t3.medium",
    "vcpuNum": 2
   },
   {
    "_defaultOrder": 1,
    "_isFastLaunch": false,
    "category": "General purpose",
    "gpuNum": 0,
    "hideHardwareSpecs": false,
    "memoryGiB": 8,
    "name": "ml.t3.large",
    "vcpuNum": 2
   },
   {
    "_defaultOrder": 2,
    "_isFastLaunch": false,
    "category": "General purpose",
    "gpuNum": 0,
    "hideHardwareSpecs": false,
    "memoryGiB": 16,
    "name": "ml.t3.xlarge",
    "vcpuNum": 4
   },
   {
    "_defaultOrder": 3,
    "_isFastLaunch": false,
    "category": "General purpose",
    "gpuNum": 0,
    "hideHardwareSpecs": false,
    "memoryGiB": 32,
    "name": "ml.t3.2xlarge",
    "vcpuNum": 8
   },
   {
    "_defaultOrder": 4,
    "_isFastLaunch": true,
    "category": "General purpose",
    "gpuNum": 0,
    "hideHardwareSpecs": false,
    "memoryGiB": 8,
    "name": "ml.m5.large",
    "vcpuNum": 2
   },
   {
    "_defaultOrder": 5,
    "_isFastLaunch": false,
    "category": "General purpose",
    "gpuNum": 0,
    "hideHardwareSpecs": false,
    "memoryGiB": 16,
    "name": "ml.m5.xlarge",
    "vcpuNum": 4
   },
   {
    "_defaultOrder": 6,
    "_isFastLaunch": false,
    "category": "General purpose",
    "gpuNum": 0,
    "hideHardwareSpecs": false,
    "memoryGiB": 32,
    "name": "ml.m5.2xlarge",
    "vcpuNum": 8
   },
   {
    "_defaultOrder": 7,
    "_isFastLaunch": false,
    "category": "General purpose",
    "gpuNum": 0,
    "hideHardwareSpecs": false,
    "memoryGiB": 64,
    "name": "ml.m5.4xlarge",
    "vcpuNum": 16
   },
   {
    "_defaultOrder": 8,
    "_isFastLaunch": false,
    "category": "General purpose",
    "gpuNum": 0,
    "hideHardwareSpecs": false,
    "memoryGiB": 128,
    "name": "ml.m5.8xlarge",
    "vcpuNum": 32
   },
   {
    "_defaultOrder": 9,
    "_isFastLaunch": false,
    "category": "General purpose",
    "gpuNum": 0,
    "hideHardwareSpecs": false,
    "memoryGiB": 192,
    "name": "ml.m5.12xlarge",
    "vcpuNum": 48
   },
   {
    "_defaultOrder": 10,
    "_isFastLaunch": false,
    "category": "General purpose",
    "gpuNum": 0,
    "hideHardwareSpecs": false,
    "memoryGiB": 256,
    "name": "ml.m5.16xlarge",
    "vcpuNum": 64
   },
   {
    "_defaultOrder": 11,
    "_isFastLaunch": false,
    "category": "General purpose",
    "gpuNum": 0,
    "hideHardwareSpecs": false,
    "memoryGiB": 384,
    "name": "ml.m5.24xlarge",
    "vcpuNum": 96
   },
   {
    "_defaultOrder": 12,
    "_isFastLaunch": false,
    "category": "General purpose",
    "gpuNum": 0,
    "hideHardwareSpecs": false,
    "memoryGiB": 8,
    "name": "ml.m5d.large",
    "vcpuNum": 2
   },
   {
    "_defaultOrder": 13,
    "_isFastLaunch": false,
    "category": "General purpose",
    "gpuNum": 0,
    "hideHardwareSpecs": false,
    "memoryGiB": 16,
    "name": "ml.m5d.xlarge",
    "vcpuNum": 4
   },
   {
    "_defaultOrder": 14,
    "_isFastLaunch": false,
    "category": "General purpose",
    "gpuNum": 0,
    "hideHardwareSpecs": false,
    "memoryGiB": 32,
    "name": "ml.m5d.2xlarge",
    "vcpuNum": 8
   },
   {
    "_defaultOrder": 15,
    "_isFastLaunch": false,
    "category": "General purpose",
    "gpuNum": 0,
    "hideHardwareSpecs": false,
    "memoryGiB": 64,
    "name": "ml.m5d.4xlarge",
    "vcpuNum": 16
   },
   {
    "_defaultOrder": 16,
    "_isFastLaunch": false,
    "category": "General purpose",
    "gpuNum": 0,
    "hideHardwareSpecs": false,
    "memoryGiB": 128,
    "name": "ml.m5d.8xlarge",
    "vcpuNum": 32
   },
   {
    "_defaultOrder": 17,
    "_isFastLaunch": false,
    "category": "General purpose",
    "gpuNum": 0,
    "hideHardwareSpecs": false,
    "memoryGiB": 192,
    "name": "ml.m5d.12xlarge",
    "vcpuNum": 48
   },
   {
    "_defaultOrder": 18,
    "_isFastLaunch": false,
    "category": "General purpose",
    "gpuNum": 0,
    "hideHardwareSpecs": false,
    "memoryGiB": 256,
    "name": "ml.m5d.16xlarge",
    "vcpuNum": 64
   },
   {
    "_defaultOrder": 19,
    "_isFastLaunch": false,
    "category": "General purpose",
    "gpuNum": 0,
    "hideHardwareSpecs": false,
    "memoryGiB": 384,
    "name": "ml.m5d.24xlarge",
    "vcpuNum": 96
   },
   {
    "_defaultOrder": 20,
    "_isFastLaunch": false,
    "category": "General purpose",
    "gpuNum": 0,
    "hideHardwareSpecs": true,
    "memoryGiB": 0,
    "name": "ml.geospatial.interactive",
    "supportedImageNames": [
     "sagemaker-geospatial-v1-0"
    ],
    "vcpuNum": 0
   },
   {
    "_defaultOrder": 21,
    "_isFastLaunch": true,
    "category": "Compute optimized",
    "gpuNum": 0,
    "hideHardwareSpecs": false,
    "memoryGiB": 4,
    "name": "ml.c5.large",
    "vcpuNum": 2
   },
   {
    "_defaultOrder": 22,
    "_isFastLaunch": false,
    "category": "Compute optimized",
    "gpuNum": 0,
    "hideHardwareSpecs": false,
    "memoryGiB": 8,
    "name": "ml.c5.xlarge",
    "vcpuNum": 4
   },
   {
    "_defaultOrder": 23,
    "_isFastLaunch": false,
    "category": "Compute optimized",
    "gpuNum": 0,
    "hideHardwareSpecs": false,
    "memoryGiB": 16,
    "name": "ml.c5.2xlarge",
    "vcpuNum": 8
   },
   {
    "_defaultOrder": 24,
    "_isFastLaunch": false,
    "category": "Compute optimized",
    "gpuNum": 0,
    "hideHardwareSpecs": false,
    "memoryGiB": 32,
    "name": "ml.c5.4xlarge",
    "vcpuNum": 16
   },
   {
    "_defaultOrder": 25,
    "_isFastLaunch": false,
    "category": "Compute optimized",
    "gpuNum": 0,
    "hideHardwareSpecs": false,
    "memoryGiB": 72,
    "name": "ml.c5.9xlarge",
    "vcpuNum": 36
   },
   {
    "_defaultOrder": 26,
    "_isFastLaunch": false,
    "category": "Compute optimized",
    "gpuNum": 0,
    "hideHardwareSpecs": false,
    "memoryGiB": 96,
    "name": "ml.c5.12xlarge",
    "vcpuNum": 48
   },
   {
    "_defaultOrder": 27,
    "_isFastLaunch": false,
    "category": "Compute optimized",
    "gpuNum": 0,
    "hideHardwareSpecs": false,
    "memoryGiB": 144,
    "name": "ml.c5.18xlarge",
    "vcpuNum": 72
   },
   {
    "_defaultOrder": 28,
    "_isFastLaunch": false,
    "category": "Compute optimized",
    "gpuNum": 0,
    "hideHardwareSpecs": false,
    "memoryGiB": 192,
    "name": "ml.c5.24xlarge",
    "vcpuNum": 96
   },
   {
    "_defaultOrder": 29,
    "_isFastLaunch": true,
    "category": "Accelerated computing",
    "gpuNum": 1,
    "hideHardwareSpecs": false,
    "memoryGiB": 16,
    "name": "ml.g4dn.xlarge",
    "vcpuNum": 4
   },
   {
    "_defaultOrder": 30,
    "_isFastLaunch": false,
    "category": "Accelerated computing",
    "gpuNum": 1,
    "hideHardwareSpecs": false,
    "memoryGiB": 32,
    "name": "ml.g4dn.2xlarge",
    "vcpuNum": 8
   },
   {
    "_defaultOrder": 31,
    "_isFastLaunch": false,
    "category": "Accelerated computing",
    "gpuNum": 1,
    "hideHardwareSpecs": false,
    "memoryGiB": 64,
    "name": "ml.g4dn.4xlarge",
    "vcpuNum": 16
   },
   {
    "_defaultOrder": 32,
    "_isFastLaunch": false,
    "category": "Accelerated computing",
    "gpuNum": 1,
    "hideHardwareSpecs": false,
    "memoryGiB": 128,
    "name": "ml.g4dn.8xlarge",
    "vcpuNum": 32
   },
   {
    "_defaultOrder": 33,
    "_isFastLaunch": false,
    "category": "Accelerated computing",
    "gpuNum": 4,
    "hideHardwareSpecs": false,
    "memoryGiB": 192,
    "name": "ml.g4dn.12xlarge",
    "vcpuNum": 48
   },
   {
    "_defaultOrder": 34,
    "_isFastLaunch": false,
    "category": "Accelerated computing",
    "gpuNum": 1,
    "hideHardwareSpecs": false,
    "memoryGiB": 256,
    "name": "ml.g4dn.16xlarge",
    "vcpuNum": 64
   },
   {
    "_defaultOrder": 35,
    "_isFastLaunch": false,
    "category": "Accelerated computing",
    "gpuNum": 1,
    "hideHardwareSpecs": false,
    "memoryGiB": 61,
    "name": "ml.p3.2xlarge",
    "vcpuNum": 8
   },
   {
    "_defaultOrder": 36,
    "_isFastLaunch": false,
    "category": "Accelerated computing",
    "gpuNum": 4,
    "hideHardwareSpecs": false,
    "memoryGiB": 244,
    "name": "ml.p3.8xlarge",
    "vcpuNum": 32
   },
   {
    "_defaultOrder": 37,
    "_isFastLaunch": false,
    "category": "Accelerated computing",
    "gpuNum": 8,
    "hideHardwareSpecs": false,
    "memoryGiB": 488,
    "name": "ml.p3.16xlarge",
    "vcpuNum": 64
   },
   {
    "_defaultOrder": 38,
    "_isFastLaunch": false,
    "category": "Accelerated computing",
    "gpuNum": 8,
    "hideHardwareSpecs": false,
    "memoryGiB": 768,
    "name": "ml.p3dn.24xlarge",
    "vcpuNum": 96
   },
   {
    "_defaultOrder": 39,
    "_isFastLaunch": false,
    "category": "Memory Optimized",
    "gpuNum": 0,
    "hideHardwareSpecs": false,
    "memoryGiB": 16,
    "name": "ml.r5.large",
    "vcpuNum": 2
   },
   {
    "_defaultOrder": 40,
    "_isFastLaunch": false,
    "category": "Memory Optimized",
    "gpuNum": 0,
    "hideHardwareSpecs": false,
    "memoryGiB": 32,
    "name": "ml.r5.xlarge",
    "vcpuNum": 4
   },
   {
    "_defaultOrder": 41,
    "_isFastLaunch": false,
    "category": "Memory Optimized",
    "gpuNum": 0,
    "hideHardwareSpecs": false,
    "memoryGiB": 64,
    "name": "ml.r5.2xlarge",
    "vcpuNum": 8
   },
   {
    "_defaultOrder": 42,
    "_isFastLaunch": false,
    "category": "Memory Optimized",
    "gpuNum": 0,
    "hideHardwareSpecs": false,
    "memoryGiB": 128,
    "name": "ml.r5.4xlarge",
    "vcpuNum": 16
   },
   {
    "_defaultOrder": 43,
    "_isFastLaunch": false,
    "category": "Memory Optimized",
    "gpuNum": 0,
    "hideHardwareSpecs": false,
    "memoryGiB": 256,
    "name": "ml.r5.8xlarge",
    "vcpuNum": 32
   },
   {
    "_defaultOrder": 44,
    "_isFastLaunch": false,
    "category": "Memory Optimized",
    "gpuNum": 0,
    "hideHardwareSpecs": false,
    "memoryGiB": 384,
    "name": "ml.r5.12xlarge",
    "vcpuNum": 48
   },
   {
    "_defaultOrder": 45,
    "_isFastLaunch": false,
    "category": "Memory Optimized",
    "gpuNum": 0,
    "hideHardwareSpecs": false,
    "memoryGiB": 512,
    "name": "ml.r5.16xlarge",
    "vcpuNum": 64
   },
   {
    "_defaultOrder": 46,
    "_isFastLaunch": false,
    "category": "Memory Optimized",
    "gpuNum": 0,
    "hideHardwareSpecs": false,
    "memoryGiB": 768,
    "name": "ml.r5.24xlarge",
    "vcpuNum": 96
   },
   {
    "_defaultOrder": 47,
    "_isFastLaunch": false,
    "category": "Accelerated computing",
    "gpuNum": 1,
    "hideHardwareSpecs": false,
    "memoryGiB": 16,
    "name": "ml.g5.xlarge",
    "vcpuNum": 4
   },
   {
    "_defaultOrder": 48,
    "_isFastLaunch": false,
    "category": "Accelerated computing",
    "gpuNum": 1,
    "hideHardwareSpecs": false,
    "memoryGiB": 32,
    "name": "ml.g5.2xlarge",
    "vcpuNum": 8
   },
   {
    "_defaultOrder": 49,
    "_isFastLaunch": false,
    "category": "Accelerated computing",
    "gpuNum": 1,
    "hideHardwareSpecs": false,
    "memoryGiB": 64,
    "name": "ml.g5.4xlarge",
    "vcpuNum": 16
   },
   {
    "_defaultOrder": 50,
    "_isFastLaunch": false,
    "category": "Accelerated computing",
    "gpuNum": 1,
    "hideHardwareSpecs": false,
    "memoryGiB": 128,
    "name": "ml.g5.8xlarge",
    "vcpuNum": 32
   },
   {
    "_defaultOrder": 51,
    "_isFastLaunch": false,
    "category": "Accelerated computing",
    "gpuNum": 1,
    "hideHardwareSpecs": false,
    "memoryGiB": 256,
    "name": "ml.g5.16xlarge",
    "vcpuNum": 64
   },
   {
    "_defaultOrder": 52,
    "_isFastLaunch": false,
    "category": "Accelerated computing",
    "gpuNum": 4,
    "hideHardwareSpecs": false,
    "memoryGiB": 192,
    "name": "ml.g5.12xlarge",
    "vcpuNum": 48
   },
   {
    "_defaultOrder": 53,
    "_isFastLaunch": false,
    "category": "Accelerated computing",
    "gpuNum": 4,
    "hideHardwareSpecs": false,
    "memoryGiB": 384,
    "name": "ml.g5.24xlarge",
    "vcpuNum": 96
   },
   {
    "_defaultOrder": 54,
    "_isFastLaunch": false,
    "category": "Accelerated computing",
    "gpuNum": 8,
    "hideHardwareSpecs": false,
    "memoryGiB": 768,
    "name": "ml.g5.48xlarge",
    "vcpuNum": 192
   },
   {
    "_defaultOrder": 55,
    "_isFastLaunch": false,
    "category": "Accelerated computing",
    "gpuNum": 8,
    "hideHardwareSpecs": false,
    "memoryGiB": 1152,
    "name": "ml.p4d.24xlarge",
    "vcpuNum": 96
   },
   {
    "_defaultOrder": 56,
    "_isFastLaunch": false,
    "category": "Accelerated computing",
    "gpuNum": 8,
    "hideHardwareSpecs": false,
    "memoryGiB": 1152,
    "name": "ml.p4de.24xlarge",
    "vcpuNum": 96
   },
   {
    "_defaultOrder": 57,
    "_isFastLaunch": false,
    "category": "Accelerated computing",
    "gpuNum": 0,
    "hideHardwareSpecs": false,
    "memoryGiB": 32,
    "name": "ml.trn1.2xlarge",
    "vcpuNum": 8
   },
   {
    "_defaultOrder": 58,
    "_isFastLaunch": false,
    "category": "Accelerated computing",
    "gpuNum": 0,
    "hideHardwareSpecs": false,
    "memoryGiB": 512,
    "name": "ml.trn1.32xlarge",
    "vcpuNum": 128
   },
   {
    "_defaultOrder": 59,
    "_isFastLaunch": false,
    "category": "Accelerated computing",
    "gpuNum": 0,
    "hideHardwareSpecs": false,
    "memoryGiB": 512,
    "name": "ml.trn1n.32xlarge",
    "vcpuNum": 128
   }
  ],
  "instance_type": "ml.t3.medium",
  "kernelspec": {
   "display_name": "Python 3 (Data Science 3.0)",
   "language": "python",
   "name": "python3__SAGEMAKER_INTERNAL__arn:aws:sagemaker:us-west-2:236514542706:image/sagemaker-data-science-310-v1"
  },
  "language_info": {
   "codemirror_mode": {
    "name": "ipython",
    "version": 3
   },
   "file_extension": ".py",
   "mimetype": "text/x-python",
   "name": "python",
   "nbconvert_exporter": "python",
   "pygments_lexer": "ipython3",
   "version": "3.10.6"
  }
 },
 "nbformat": 4,
 "nbformat_minor": 5
}
