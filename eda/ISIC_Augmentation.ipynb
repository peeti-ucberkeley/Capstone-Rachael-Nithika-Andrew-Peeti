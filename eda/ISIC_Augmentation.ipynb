{
 "cells": [
  {
   "cell_type": "code",
   "execution_count": 1,
   "id": "9ed3ccda-5217-4402-90b1-b915419af41f",
   "metadata": {},
   "outputs": [],
   "source": [
    "import pandas as pd\n",
    "import numpy as np\n",
    "import matplotlib.pyplot as plt\n",
    "import seaborn as sns\n",
    "import random, os\n",
    "import cv2\n",
    "import plotly.express    as px\n",
    "\n",
    "from io import BytesIO\n",
    "from zipfile import ZipFile\n",
    "from PIL import Image\n",
    "from tqdm import tqdm"
   ]
  },
  {
   "cell_type": "markdown",
   "id": "1fb77591-8d76-4ed3-9320-6112a4604ad6",
   "metadata": {},
   "source": [
    "# load train data"
   ]
  },
  {
   "cell_type": "code",
   "execution_count": 2,
   "id": "5684d2bb-20a4-4366-9084-d8c947369526",
   "metadata": {},
   "outputs": [
    {
     "name": "stdout",
     "output_type": "stream",
     "text": [
      "(57729, 8)\n"
     ]
    },
    {
     "data": {
      "text/html": [
       "<div>\n",
       "<style scoped>\n",
       "    .dataframe tbody tr th:only-of-type {\n",
       "        vertical-align: middle;\n",
       "    }\n",
       "\n",
       "    .dataframe tbody tr th {\n",
       "        vertical-align: top;\n",
       "    }\n",
       "\n",
       "    .dataframe thead th {\n",
       "        text-align: right;\n",
       "    }\n",
       "</style>\n",
       "<table border=\"1\" class=\"dataframe\">\n",
       "  <thead>\n",
       "    <tr style=\"text-align: right;\">\n",
       "      <th></th>\n",
       "      <th>image_id</th>\n",
       "      <th>patient_id</th>\n",
       "      <th>target</th>\n",
       "      <th>source</th>\n",
       "      <th>sex</th>\n",
       "      <th>age_approx</th>\n",
       "      <th>benign_malignant</th>\n",
       "      <th>anatom_site_general_challenge</th>\n",
       "    </tr>\n",
       "  </thead>\n",
       "  <tbody>\n",
       "    <tr>\n",
       "      <th>0</th>\n",
       "      <td>ISIC_2637011.jpg</td>\n",
       "      <td>IP_7279968</td>\n",
       "      <td>unknown</td>\n",
       "      <td>ISIC2020</td>\n",
       "      <td>male</td>\n",
       "      <td>45.0</td>\n",
       "      <td>benign</td>\n",
       "      <td>head/neck</td>\n",
       "    </tr>\n",
       "    <tr>\n",
       "      <th>1</th>\n",
       "      <td>ISIC_0015719.jpg</td>\n",
       "      <td>IP_3075186</td>\n",
       "      <td>unknown</td>\n",
       "      <td>ISIC2020</td>\n",
       "      <td>female</td>\n",
       "      <td>45.0</td>\n",
       "      <td>benign</td>\n",
       "      <td>upper extremity</td>\n",
       "    </tr>\n",
       "    <tr>\n",
       "      <th>2</th>\n",
       "      <td>ISIC_0052212.jpg</td>\n",
       "      <td>IP_2842074</td>\n",
       "      <td>nevus</td>\n",
       "      <td>ISIC2020</td>\n",
       "      <td>female</td>\n",
       "      <td>50.0</td>\n",
       "      <td>benign</td>\n",
       "      <td>lower extremity</td>\n",
       "    </tr>\n",
       "    <tr>\n",
       "      <th>3</th>\n",
       "      <td>ISIC_0068279.jpg</td>\n",
       "      <td>IP_6890425</td>\n",
       "      <td>unknown</td>\n",
       "      <td>ISIC2020</td>\n",
       "      <td>female</td>\n",
       "      <td>45.0</td>\n",
       "      <td>benign</td>\n",
       "      <td>head/neck</td>\n",
       "    </tr>\n",
       "    <tr>\n",
       "      <th>4</th>\n",
       "      <td>ISIC_0074268.jpg</td>\n",
       "      <td>IP_8723313</td>\n",
       "      <td>unknown</td>\n",
       "      <td>ISIC2020</td>\n",
       "      <td>female</td>\n",
       "      <td>55.0</td>\n",
       "      <td>benign</td>\n",
       "      <td>upper extremity</td>\n",
       "    </tr>\n",
       "  </tbody>\n",
       "</table>\n",
       "</div>"
      ],
      "text/plain": [
       "           image_id  patient_id   target    source     sex  age_approx  \\\n",
       "0  ISIC_2637011.jpg  IP_7279968  unknown  ISIC2020    male        45.0   \n",
       "1  ISIC_0015719.jpg  IP_3075186  unknown  ISIC2020  female        45.0   \n",
       "2  ISIC_0052212.jpg  IP_2842074    nevus  ISIC2020  female        50.0   \n",
       "3  ISIC_0068279.jpg  IP_6890425  unknown  ISIC2020  female        45.0   \n",
       "4  ISIC_0074268.jpg  IP_8723313  unknown  ISIC2020  female        55.0   \n",
       "\n",
       "  benign_malignant anatom_site_general_challenge  \n",
       "0           benign                     head/neck  \n",
       "1           benign               upper extremity  \n",
       "2           benign               lower extremity  \n",
       "3           benign                     head/neck  \n",
       "4           benign               upper extremity  "
      ]
     },
     "execution_count": 2,
     "metadata": {},
     "output_type": "execute_result"
    }
   ],
   "source": [
    "train_df = pd.read_csv('ISICmerge2019_2020_remove_dup_img.csv')\n",
    "print(train_df.shape)\n",
    "train_df.head()"
   ]
  },
  {
   "cell_type": "markdown",
   "id": "90c21ca2-9dcd-4431-b89e-c29f4232ffbc",
   "metadata": {},
   "source": [
    "# load test data"
   ]
  },
  {
   "cell_type": "code",
   "execution_count": 3,
   "id": "d3ae151e-373e-4c0d-affe-5dd802d2ccb9",
   "metadata": {},
   "outputs": [
    {
     "name": "stdout",
     "output_type": "stream",
     "text": [
      "(8238, 4)\n"
     ]
    },
    {
     "data": {
      "text/html": [
       "<div>\n",
       "<style scoped>\n",
       "    .dataframe tbody tr th:only-of-type {\n",
       "        vertical-align: middle;\n",
       "    }\n",
       "\n",
       "    .dataframe tbody tr th {\n",
       "        vertical-align: top;\n",
       "    }\n",
       "\n",
       "    .dataframe thead th {\n",
       "        text-align: right;\n",
       "    }\n",
       "</style>\n",
       "<table border=\"1\" class=\"dataframe\">\n",
       "  <thead>\n",
       "    <tr style=\"text-align: right;\">\n",
       "      <th></th>\n",
       "      <th>image</th>\n",
       "      <th>age_approx</th>\n",
       "      <th>anatom_site_general</th>\n",
       "      <th>sex</th>\n",
       "      <th>source</th>\n",
       "    </tr>\n",
       "  </thead>\n",
       "  <tbody>\n",
       "    <tr>\n",
       "      <th>0</th>\n",
       "      <td>ISIC_0034321</td>\n",
       "      <td>60.0</td>\n",
       "      <td>NaN</td>\n",
       "      <td>female</td>\n",
       "      <td>ISIC2019</td>\n",
       "    </tr>\n",
       "    <tr>\n",
       "      <th>1</th>\n",
       "      <td>ISIC_0034322</td>\n",
       "      <td>70.0</td>\n",
       "      <td>anterior torso</td>\n",
       "      <td>male</td>\n",
       "      <td>ISIC2019</td>\n",
       "    </tr>\n",
       "    <tr>\n",
       "      <th>2</th>\n",
       "      <td>ISIC_0034323</td>\n",
       "      <td>70.0</td>\n",
       "      <td>lower extremity</td>\n",
       "      <td>male</td>\n",
       "      <td>ISIC2019</td>\n",
       "    </tr>\n",
       "    <tr>\n",
       "      <th>3</th>\n",
       "      <td>ISIC_0034324</td>\n",
       "      <td>70.0</td>\n",
       "      <td>lower extremity</td>\n",
       "      <td>male</td>\n",
       "      <td>ISIC2019</td>\n",
       "    </tr>\n",
       "    <tr>\n",
       "      <th>4</th>\n",
       "      <td>ISIC_0034325</td>\n",
       "      <td>30.0</td>\n",
       "      <td>upper extremity</td>\n",
       "      <td>female</td>\n",
       "      <td>ISIC2019</td>\n",
       "    </tr>\n",
       "  </tbody>\n",
       "</table>\n",
       "</div>"
      ],
      "text/plain": [
       "          image  age_approx anatom_site_general     sex    source\n",
       "0  ISIC_0034321        60.0                 NaN  female  ISIC2019\n",
       "1  ISIC_0034322        70.0      anterior torso    male  ISIC2019\n",
       "2  ISIC_0034323        70.0     lower extremity    male  ISIC2019\n",
       "3  ISIC_0034324        70.0     lower extremity    male  ISIC2019\n",
       "4  ISIC_0034325        30.0     upper extremity  female  ISIC2019"
      ]
     },
     "execution_count": 3,
     "metadata": {},
     "output_type": "execute_result"
    }
   ],
   "source": [
    "test_2019_df = pd.read_csv('../data/ISIC_2019_Test_Metadata.csv')\n",
    "print(test_2019_df.shape)\n",
    "# add source column\n",
    "test_2019_df['source'] = 'ISIC2019'\n",
    "test_2019_df.head()"
   ]
  },
  {
   "cell_type": "code",
   "execution_count": 4,
   "id": "61a9ac9d-68a7-40de-9345-82be6ad1c0c3",
   "metadata": {},
   "outputs": [
    {
     "name": "stdout",
     "output_type": "stream",
     "text": [
      "(10982, 5)\n"
     ]
    },
    {
     "data": {
      "text/html": [
       "<div>\n",
       "<style scoped>\n",
       "    .dataframe tbody tr th:only-of-type {\n",
       "        vertical-align: middle;\n",
       "    }\n",
       "\n",
       "    .dataframe tbody tr th {\n",
       "        vertical-align: top;\n",
       "    }\n",
       "\n",
       "    .dataframe thead th {\n",
       "        text-align: right;\n",
       "    }\n",
       "</style>\n",
       "<table border=\"1\" class=\"dataframe\">\n",
       "  <thead>\n",
       "    <tr style=\"text-align: right;\">\n",
       "      <th></th>\n",
       "      <th>image</th>\n",
       "      <th>patient</th>\n",
       "      <th>age_approx</th>\n",
       "      <th>anatom_site_general</th>\n",
       "      <th>sex</th>\n",
       "      <th>source</th>\n",
       "    </tr>\n",
       "  </thead>\n",
       "  <tbody>\n",
       "    <tr>\n",
       "      <th>0</th>\n",
       "      <td>ISIC_0052060</td>\n",
       "      <td>IP_3579794</td>\n",
       "      <td>70</td>\n",
       "      <td>NaN</td>\n",
       "      <td>male</td>\n",
       "      <td>ISIC2020</td>\n",
       "    </tr>\n",
       "    <tr>\n",
       "      <th>1</th>\n",
       "      <td>ISIC_0052349</td>\n",
       "      <td>IP_7782715</td>\n",
       "      <td>40</td>\n",
       "      <td>lower extremity</td>\n",
       "      <td>male</td>\n",
       "      <td>ISIC2020</td>\n",
       "    </tr>\n",
       "    <tr>\n",
       "      <th>2</th>\n",
       "      <td>ISIC_0058510</td>\n",
       "      <td>IP_7960270</td>\n",
       "      <td>55</td>\n",
       "      <td>torso</td>\n",
       "      <td>female</td>\n",
       "      <td>ISIC2020</td>\n",
       "    </tr>\n",
       "    <tr>\n",
       "      <th>3</th>\n",
       "      <td>ISIC_0073313</td>\n",
       "      <td>IP_6375035</td>\n",
       "      <td>50</td>\n",
       "      <td>torso</td>\n",
       "      <td>female</td>\n",
       "      <td>ISIC2020</td>\n",
       "    </tr>\n",
       "    <tr>\n",
       "      <th>4</th>\n",
       "      <td>ISIC_0073502</td>\n",
       "      <td>IP_0589375</td>\n",
       "      <td>45</td>\n",
       "      <td>lower extremity</td>\n",
       "      <td>female</td>\n",
       "      <td>ISIC2020</td>\n",
       "    </tr>\n",
       "  </tbody>\n",
       "</table>\n",
       "</div>"
      ],
      "text/plain": [
       "          image     patient  age_approx anatom_site_general     sex    source\n",
       "0  ISIC_0052060  IP_3579794          70                 NaN    male  ISIC2020\n",
       "1  ISIC_0052349  IP_7782715          40     lower extremity    male  ISIC2020\n",
       "2  ISIC_0058510  IP_7960270          55               torso  female  ISIC2020\n",
       "3  ISIC_0073313  IP_6375035          50               torso  female  ISIC2020\n",
       "4  ISIC_0073502  IP_0589375          45     lower extremity  female  ISIC2020"
      ]
     },
     "execution_count": 4,
     "metadata": {},
     "output_type": "execute_result"
    }
   ],
   "source": [
    "test_2020_df = pd.read_csv('../data/ISIC_2020_Test_Metadata.csv')\n",
    "print(test_2020_df.shape)\n",
    "# add source column\n",
    "test_2020_df['source'] = 'ISIC2020'\n",
    "test_2020_df.head()"
   ]
  },
  {
   "cell_type": "markdown",
   "id": "83233af3-028f-454a-b0d2-40fb128a495d",
   "metadata": {},
   "source": [
    "# merge Test data"
   ]
  },
  {
   "cell_type": "code",
   "execution_count": 6,
   "id": "7fc92562-d71a-44a9-8665-343aae62d242",
   "metadata": {},
   "outputs": [
    {
     "data": {
      "text/plain": [
       "(19220, 6)"
      ]
     },
     "execution_count": 6,
     "metadata": {},
     "output_type": "execute_result"
    }
   ],
   "source": [
    "test_df = pd.concat([test_2020_df,test_2019_df], axis = 0)\n",
    "test_df.shape"
   ]
  },
  {
   "cell_type": "code",
   "execution_count": null,
   "id": "85306c8c-2989-4a2a-b11b-eebf05362ad6",
   "metadata": {},
   "outputs": [],
   "source": []
  }
 ],
 "metadata": {
  "kernelspec": {
   "display_name": "Python 3 (ipykernel)",
   "language": "python",
   "name": "python3"
  },
  "language_info": {
   "codemirror_mode": {
    "name": "ipython",
    "version": 3
   },
   "file_extension": ".py",
   "mimetype": "text/x-python",
   "name": "python",
   "nbconvert_exporter": "python",
   "pygments_lexer": "ipython3",
   "version": "3.9.18"
  }
 },
 "nbformat": 4,
 "nbformat_minor": 5
}
