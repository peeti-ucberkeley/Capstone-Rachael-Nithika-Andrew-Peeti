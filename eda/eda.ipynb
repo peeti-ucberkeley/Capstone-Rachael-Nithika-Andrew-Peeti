{
 "cells": [
  {
   "cell_type": "code",
   "execution_count": 2,
   "id": "08885b3c-8875-479d-af85-aeef2c606cc7",
   "metadata": {},
   "outputs": [],
   "source": [
    "import pandas as pd\n",
    "import numpy as np\n",
    "import matplotlib.pyplot as plt\n",
    "import seaborn as sns\n",
    "import random\n",
    "import cv2\n",
    "import plotly.express    as px\n",
    "from sklearn.utils       import resample\n",
    "\n",
    "from tensorflow import keras\n",
    "from sklearn.metrics import accuracy_score,confusion_matrix,classification_report\n",
    "\n",
    "from io import BytesIO\n",
    "from zipfile import ZipFile\n",
    "from PIL import Image\n"
   ]
  },
  {
   "cell_type": "markdown",
   "id": "33b6fce9-0b0e-42ce-bb0e-45ac64fcc466",
   "metadata": {},
   "source": [
    "# load ISIC 2019 ground truth"
   ]
  },
  {
   "cell_type": "code",
   "execution_count": null,
   "id": "8586296d-355a-4dab-b43f-7fa81a439940",
   "metadata": {},
   "outputs": [],
   "source": [
    "path_data = '~/PycharmProjects/skin-image-classification/data/'"
   ]
  },
  {
   "cell_type": "code",
   "execution_count": null,
   "id": "e6832b54-21f3-4efd-ac1d-1f5ad8b9cd99",
   "metadata": {},
   "outputs": [],
   "source": [
    "isic_df_groud = pd.read_csv(path_data+'ISIC_2019_Training_GroundTruth.csv')\n",
    "print(isic_df_groud.shape)\n",
    "isic_df_groud.head(3)"
   ]
  },
  {
   "cell_type": "markdown",
   "id": "c6a9e2a9-f127-4b9d-8488-437ec9bdec41",
   "metadata": {},
   "source": [
    "## count image for each category"
   ]
  },
  {
   "cell_type": "code",
   "execution_count": null,
   "id": "8461831e-64be-4320-9f58-0a9bf08f711b",
   "metadata": {},
   "outputs": [],
   "source": [
    "cols = list(isic_df_groud.columns[1:])\n",
    "\n",
    "for i in range(0,len(cols)):\n",
    "      print(\"Total images of \" + cols[i]+ \" : \"+ str(len(isic_df_groud[isic_df_groud[cols[i]]>0])))"
   ]
  },
  {
   "cell_type": "markdown",
   "id": "cf57ff92-43eb-4906-961d-59ef224da4f3",
   "metadata": {},
   "source": [
    "**Abbreviations used in the dataset**\n",
    "\n",
    "\n",
    "<li><b>MEL:</b> Melanoma — a malignant neoplasm derived from melanocytes </li>\n",
    "<li><b>NV:</b> Melanocytic nevi — benign neoplasms of melanocytes </li>\n",
    "<li><b>BCC: Basal cell carcinoma — a common variant of epithelial skin cancer that rarely metastasizes but grows destructively if untreated (bccs do not necessarily produce pigmented lesions)</li>\n",
    "<li><b>AK: Actinic Keratoses and intraepithelial Carcinoma — common non-invasive, variants of squamous cell carcinoma that can be treated locally without surgery</li>\n",
    "<li><b>BKL: Benign keratosis — a generic class that includes seborrheic keratoses, solar lentigo and lichen-planus like keratoses</li>\n",
    "<li><b>DF: Dermatofibroma — a benign skin lesion regarded as either a benign proliferation or an inflammatory reaction to minimal trauma</li>\n",
    "<li><b>VASC: Vascular skin lesions ranging from cherry angiomas to angiokeratomas and pyogenic granulomas</li>\n",
    "<li><b>SCC: Squamous cell carcinoma — a common form of skin cancer that develops in the squamous cells that make up the middle and outer layers of the skin</li>\n",
    "<li><b>UNK: None of the others\n",
    "</li>"
   ]
  },
  {
   "cell_type": "markdown",
   "id": "7235255a-c4be-4a61-8ca2-e6d5b37b9e57",
   "metadata": {},
   "source": [
    "# sample of image"
   ]
  },
  {
   "cell_type": "code",
   "execution_count": null,
   "id": "22bff889-ade8-4344-bf87-3ada40db7bef",
   "metadata": {},
   "outputs": [],
   "source": [
    "#read image from zip file\n",
    "\n",
    "def get_images(diagnosis):\n",
    "    fig, ax = plt.subplots(1,5,figsize=(25, 25))\n",
    "    for i in range(5):\n",
    "        with ZipFile('../data/image/ISIC_2019_Training_Input.zip', 'r') as zfile:\n",
    "            image_index = random.choice(isic_df_groud.loc[isic_df_groud[diagnosis]==1.0]['image'].reset_index(drop=True))\n",
    "            data = zfile.read(f'ISIC_2019_Training_Input/{image_index}.jpg')\n",
    "            processedImg = Image.open(BytesIO(data))\n",
    "            ax[i].set_title(f'image {str(diagnosis)}')\n",
    "            ax[i].imshow(processedImg)\n",
    "\n",
    "# show sample of each category except UNK\n",
    "for name_diagnosis in isic_df_groud.columns[1:-1]:\n",
    "    get_images(name_diagnosis)\n"
   ]
  },
  {
   "cell_type": "code",
   "execution_count": null,
   "id": "48d9d200-de4f-4051-9807-6868548abed7",
   "metadata": {},
   "outputs": [],
   "source": []
  }
 ],
 "metadata": {
  "kernelspec": {
   "display_name": "Python 3 (ipykernel)",
   "language": "python",
   "name": "python3"
  },
  "language_info": {
   "codemirror_mode": {
    "name": "ipython",
    "version": 3
   },
   "file_extension": ".py",
   "mimetype": "text/x-python",
   "name": "python",
   "nbconvert_exporter": "python",
   "pygments_lexer": "ipython3",
   "version": "3.9.18"
  }
 },
 "nbformat": 4,
 "nbformat_minor": 5
}
