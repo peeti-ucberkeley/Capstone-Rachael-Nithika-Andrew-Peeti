{
 "cells": [
  {
   "cell_type": "code",
   "execution_count": 6,
   "id": "08885b3c-8875-479d-af85-aeef2c606cc7",
   "metadata": {},
   "outputs": [],
   "source": [
    "import pandas as pd\n",
    "import numpy as np\n",
    "import matplotlib.pyplot as plt\n",
    "import seaborn as sns\n",
    "import random\n",
    "import cv2\n",
    "import plotly.express    as px\n",
    "from sklearn.utils       import resample\n",
    "\n",
    "from tensorflow import keras\n",
    "from sklearn.metrics import accuracy_score,confusion_matrix,classification_report"
   ]
  },
  {
   "cell_type": "markdown",
   "id": "33b6fce9-0b0e-42ce-bb0e-45ac64fcc466",
   "metadata": {},
   "source": [
    "# load ISIC 2019 ground truth"
   ]
  },
  {
   "cell_type": "code",
   "execution_count": 11,
   "id": "88a57d50-a7fe-41fc-a5af-89c9c81e8322",
   "metadata": {},
   "outputs": [
    {
     "name": "stdout",
     "output_type": "stream",
     "text": [
      "ISIC_2019_Training_GroundTruth.csv  hosp_rankings_local.csv\n",
      "ISIC_2019_Training_Input.zip        spec_hosp_rankings.csv\n",
      "ISIC_2019_Training_Metadata.csv\n"
     ]
    }
   ],
   "source": [
    "ls ~/PycharmProjects/skin-image-classification/data"
   ]
  },
  {
   "cell_type": "code",
   "execution_count": 12,
   "id": "8586296d-355a-4dab-b43f-7fa81a439940",
   "metadata": {},
   "outputs": [],
   "source": [
    "path_data = '~/PycharmProjects/skin-image-classification/data/'"
   ]
  },
  {
   "cell_type": "code",
   "execution_count": 13,
   "id": "e6832b54-21f3-4efd-ac1d-1f5ad8b9cd99",
   "metadata": {},
   "outputs": [
    {
     "name": "stdout",
     "output_type": "stream",
     "text": [
      "(25331, 10)\n"
     ]
    },
    {
     "data": {
      "text/html": [
       "<div>\n",
       "<style scoped>\n",
       "    .dataframe tbody tr th:only-of-type {\n",
       "        vertical-align: middle;\n",
       "    }\n",
       "\n",
       "    .dataframe tbody tr th {\n",
       "        vertical-align: top;\n",
       "    }\n",
       "\n",
       "    .dataframe thead th {\n",
       "        text-align: right;\n",
       "    }\n",
       "</style>\n",
       "<table border=\"1\" class=\"dataframe\">\n",
       "  <thead>\n",
       "    <tr style=\"text-align: right;\">\n",
       "      <th></th>\n",
       "      <th>image</th>\n",
       "      <th>MEL</th>\n",
       "      <th>NV</th>\n",
       "      <th>BCC</th>\n",
       "      <th>AK</th>\n",
       "      <th>BKL</th>\n",
       "      <th>DF</th>\n",
       "      <th>VASC</th>\n",
       "      <th>SCC</th>\n",
       "      <th>UNK</th>\n",
       "    </tr>\n",
       "  </thead>\n",
       "  <tbody>\n",
       "    <tr>\n",
       "      <th>0</th>\n",
       "      <td>ISIC_0000000</td>\n",
       "      <td>0.0</td>\n",
       "      <td>1.0</td>\n",
       "      <td>0.0</td>\n",
       "      <td>0.0</td>\n",
       "      <td>0.0</td>\n",
       "      <td>0.0</td>\n",
       "      <td>0.0</td>\n",
       "      <td>0.0</td>\n",
       "      <td>0.0</td>\n",
       "    </tr>\n",
       "    <tr>\n",
       "      <th>1</th>\n",
       "      <td>ISIC_0000001</td>\n",
       "      <td>0.0</td>\n",
       "      <td>1.0</td>\n",
       "      <td>0.0</td>\n",
       "      <td>0.0</td>\n",
       "      <td>0.0</td>\n",
       "      <td>0.0</td>\n",
       "      <td>0.0</td>\n",
       "      <td>0.0</td>\n",
       "      <td>0.0</td>\n",
       "    </tr>\n",
       "    <tr>\n",
       "      <th>2</th>\n",
       "      <td>ISIC_0000002</td>\n",
       "      <td>1.0</td>\n",
       "      <td>0.0</td>\n",
       "      <td>0.0</td>\n",
       "      <td>0.0</td>\n",
       "      <td>0.0</td>\n",
       "      <td>0.0</td>\n",
       "      <td>0.0</td>\n",
       "      <td>0.0</td>\n",
       "      <td>0.0</td>\n",
       "    </tr>\n",
       "  </tbody>\n",
       "</table>\n",
       "</div>"
      ],
      "text/plain": [
       "          image  MEL   NV  BCC   AK  BKL   DF  VASC  SCC  UNK\n",
       "0  ISIC_0000000  0.0  1.0  0.0  0.0  0.0  0.0   0.0  0.0  0.0\n",
       "1  ISIC_0000001  0.0  1.0  0.0  0.0  0.0  0.0   0.0  0.0  0.0\n",
       "2  ISIC_0000002  1.0  0.0  0.0  0.0  0.0  0.0   0.0  0.0  0.0"
      ]
     },
     "execution_count": 13,
     "metadata": {},
     "output_type": "execute_result"
    }
   ],
   "source": [
    "isic_df_groud = pd.read_csv(path_data+'ISIC_2019_Training_GroundTruth.csv')\n",
    "print(isic_df_groud.shape)\n",
    "isic_df_groud.head(3)"
   ]
  },
  {
   "cell_type": "markdown",
   "id": "c6a9e2a9-f127-4b9d-8488-437ec9bdec41",
   "metadata": {},
   "source": [
    "## count image for each category"
   ]
  },
  {
   "cell_type": "code",
   "execution_count": 14,
   "id": "8461831e-64be-4320-9f58-0a9bf08f711b",
   "metadata": {},
   "outputs": [
    {
     "name": "stdout",
     "output_type": "stream",
     "text": [
      "Total images of MEL : 4522\n",
      "Total images of NV : 12875\n",
      "Total images of BCC : 3323\n",
      "Total images of AK : 867\n",
      "Total images of BKL : 2624\n",
      "Total images of DF : 239\n",
      "Total images of VASC : 253\n",
      "Total images of SCC : 628\n",
      "Total images of UNK : 0\n"
     ]
    }
   ],
   "source": [
    "cols = list(isic_df_groud.columns[1:])\n",
    "\n",
    "for i in range(0,len(cols)):\n",
    "      print(\"Total images of \" + cols[i]+ \" : \"+ str(len(isic_df_groud[isic_df_groud[cols[i]]>0])))"
   ]
  },
  {
   "cell_type": "markdown",
   "id": "cf57ff92-43eb-4906-961d-59ef224da4f3",
   "metadata": {},
   "source": [
    "**Abbreviations used in the dataset**\n",
    "\n",
    "\n",
    "<li>\n",
    "MEL: Melanoma — a malignant neoplasm derived from melanocytes </li>\n",
    "<li>NV: Melanocytic nevi — benign neoplasms of melanocytes </li>\n",
    "<li>BCC: Basal cell carcinoma — a common variant of epithelial skin cancer that rarely metastasizes but grows destructively if untreated (bccs do not necessarily produce pigmented lesions)</li>\n",
    "<li>AK: Actinic Keratoses and intraepithelial Carcinoma — common non-invasive, variants of squamous cell carcinoma that can be treated locally without surgery</li>\n",
    "<li>BKL: Benign keratosis — a generic class that includes seborrheic keratoses, solar lentigo and lichen-planus like keratoses</li>\n",
    "<li>DF: Dermatofibroma — a benign skin lesion regarded as either a benign proliferation or an inflammatory reaction to minimal trauma</li>\n",
    "<li>VASC: Vascular skin lesions ranging from cherry angiomas to angiokeratomas and pyogenic granulomas</li>\n",
    "<li>SCC: Squamous cell carcinoma — a common form of skin cancer that develops in the squamous cells that make up the middle and outer layers of the skin</li>\n",
    "<li>UNK: None of the others\n",
    "</li>"
   ]
  },
  {
   "cell_type": "code",
   "execution_count": null,
   "id": "22bff889-ade8-4344-bf87-3ada40db7bef",
   "metadata": {},
   "outputs": [],
   "source": []
  }
 ],
 "metadata": {
  "kernelspec": {
   "display_name": "Python 3 (ipykernel)",
   "language": "python",
   "name": "python3"
  },
  "language_info": {
   "codemirror_mode": {
    "name": "ipython",
    "version": 3
   },
   "file_extension": ".py",
   "mimetype": "text/x-python",
   "name": "python",
   "nbconvert_exporter": "python",
   "pygments_lexer": "ipython3",
   "version": "3.9.18"
  }
 },
 "nbformat": 4,
 "nbformat_minor": 5
}
