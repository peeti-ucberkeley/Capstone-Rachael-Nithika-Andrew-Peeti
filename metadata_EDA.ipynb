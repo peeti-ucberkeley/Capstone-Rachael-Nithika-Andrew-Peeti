{
 "cells": [
  {
   "cell_type": "code",
   "execution_count": 2,
   "metadata": {},
   "outputs": [],
   "source": [
    "import pandas as pd"
   ]
  },
  {
   "cell_type": "code",
   "execution_count": 4,
   "metadata": {},
   "outputs": [
    {
     "name": "stdout",
     "output_type": "stream",
     "text": [
      "<class 'pandas.core.frame.DataFrame'>\n",
      "RangeIndex: 33126 entries, 0 to 33125\n",
      "Data columns (total 9 columns):\n",
      " #   Column                         Non-Null Count  Dtype  \n",
      "---  ------                         --------------  -----  \n",
      " 0   image_name                     33126 non-null  object \n",
      " 1   patient_id                     33126 non-null  object \n",
      " 2   lesion_id                      33126 non-null  object \n",
      " 3   sex                            33061 non-null  object \n",
      " 4   age_approx                     33058 non-null  float64\n",
      " 5   anatom_site_general_challenge  32599 non-null  object \n",
      " 6   diagnosis                      33126 non-null  object \n",
      " 7   benign_malignant               33126 non-null  object \n",
      " 8   target                         33126 non-null  int64  \n",
      "dtypes: float64(1), int64(1), object(7)\n",
      "memory usage: 2.3+ MB\n"
     ]
    }
   ],
   "source": [
    "metadata_2020 = pd.read_csv(\"/Users/ajhiggins/Local/UCB_MIDS/210_Capstone/ISIC_2020_Training_GroundTruth_v2.csv\")\n",
    "metadata_2020.info()"
   ]
  },
  {
   "cell_type": "code",
   "execution_count": 5,
   "metadata": {},
   "outputs": [
    {
     "data": {
      "text/plain": [
       "diagnosis                           benign_malignant\n",
       "unknown                             benign              27124\n",
       "nevus                               benign               5193\n",
       "melanoma                            malignant             584\n",
       "seborrheic keratosis                benign                135\n",
       "lentigo NOS                         benign                 44\n",
       "lichenoid keratosis                 benign                 37\n",
       "solar lentigo                       benign                  7\n",
       "atypical melanocytic proliferation  benign                  1\n",
       "cafe-au-lait macule                 benign                  1\n",
       "dtype: int64"
      ]
     },
     "execution_count": 5,
     "metadata": {},
     "output_type": "execute_result"
    }
   ],
   "source": [
    "metadata_2020[['diagnosis', 'benign_malignant']].value_counts()"
   ]
  },
  {
   "cell_type": "code",
   "execution_count": 9,
   "metadata": {},
   "outputs": [
    {
     "data": {
      "text/plain": [
       "IP_7279968    115\n",
       "IP_4382720    115\n",
       "IP_4938382    115\n",
       "IP_4479736    115\n",
       "IP_0656529    114\n",
       "             ... \n",
       "IP_7765635      3\n",
       "IP_3424938      3\n",
       "IP_8003098      3\n",
       "IP_3645134      3\n",
       "IP_8335299      2\n",
       "Name: patient_id, Length: 2056, dtype: int64"
      ]
     },
     "execution_count": 9,
     "metadata": {},
     "output_type": "execute_result"
    }
   ],
   "source": [
    "metadata_2020['patient_id'].value_counts()"
   ]
  },
  {
   "cell_type": "code",
   "execution_count": 10,
   "metadata": {},
   "outputs": [
    {
     "data": {
      "text/plain": [
       "IL_1974508    2\n",
       "IL_6326207    2\n",
       "IL_1172115    2\n",
       "IL_8491033    2\n",
       "IL_6859221    2\n",
       "             ..\n",
       "IL_7882491    1\n",
       "IL_1927454    1\n",
       "IL_1836202    1\n",
       "IL_3350855    1\n",
       "IL_5788213    1\n",
       "Name: lesion_id, Length: 32701, dtype: int64"
      ]
     },
     "execution_count": 10,
     "metadata": {},
     "output_type": "execute_result"
    }
   ],
   "source": [
    "metadata_2020['lesion_id'].value_counts()"
   ]
  },
  {
   "cell_type": "code",
   "execution_count": 7,
   "metadata": {},
   "outputs": [
    {
     "name": "stdout",
     "output_type": "stream",
     "text": [
      "<class 'pandas.core.frame.DataFrame'>\n",
      "RangeIndex: 25331 entries, 0 to 25330\n",
      "Data columns (total 5 columns):\n",
      " #   Column               Non-Null Count  Dtype  \n",
      "---  ------               --------------  -----  \n",
      " 0   image                25331 non-null  object \n",
      " 1   age_approx           24894 non-null  float64\n",
      " 2   anatom_site_general  22700 non-null  object \n",
      " 3   lesion_id            23247 non-null  object \n",
      " 4   sex                  24947 non-null  object \n",
      "dtypes: float64(1), object(4)\n",
      "memory usage: 989.6+ KB\n"
     ]
    }
   ],
   "source": [
    "metadata_2019 = pd.read_csv(\"/Users/ajhiggins/Local/UCB_MIDS/281_Computer_Vision/Final_Project/ISIC_2019_Training_Metadata.csv\")\n",
    "metadata_2019.info()"
   ]
  },
  {
   "cell_type": "code",
   "execution_count": 8,
   "metadata": {},
   "outputs": [
    {
     "data": {
      "text/plain": [
       "BCN_0001728    31\n",
       "BCN_0003369    27\n",
       "BCN_0001321    26\n",
       "BCN_0003196    24\n",
       "BCN_0001954    21\n",
       "               ..\n",
       "HAM_0004752     1\n",
       "HAM_0000667     1\n",
       "HAM_0000240     1\n",
       "HAM_0003075     1\n",
       "BCN_0001014     1\n",
       "Name: lesion_id, Length: 11847, dtype: int64"
      ]
     },
     "execution_count": 8,
     "metadata": {},
     "output_type": "execute_result"
    }
   ],
   "source": [
    "metadata_2019['lesion_id'].value_counts()"
   ]
  },
  {
   "cell_type": "code",
   "execution_count": 11,
   "metadata": {},
   "outputs": [
    {
     "name": "stdout",
     "output_type": "stream",
     "text": [
      "<class 'pandas.core.frame.DataFrame'>\n",
      "RangeIndex: 25331 entries, 0 to 25330\n",
      "Data columns (total 10 columns):\n",
      " #   Column  Non-Null Count  Dtype  \n",
      "---  ------  --------------  -----  \n",
      " 0   image   25331 non-null  object \n",
      " 1   MEL     25331 non-null  float64\n",
      " 2   NV      25331 non-null  float64\n",
      " 3   BCC     25331 non-null  float64\n",
      " 4   AK      25331 non-null  float64\n",
      " 5   BKL     25331 non-null  float64\n",
      " 6   DF      25331 non-null  float64\n",
      " 7   VASC    25331 non-null  float64\n",
      " 8   SCC     25331 non-null  float64\n",
      " 9   UNK     25331 non-null  float64\n",
      "dtypes: float64(9), object(1)\n",
      "memory usage: 1.9+ MB\n"
     ]
    }
   ],
   "source": [
    "groundtruth_2019 = pd.read_csv(\"/Users/ajhiggins/Local/UCB_MIDS/281_Computer_Vision/Final_Project/ISIC_2019_Training_GroundTruth.csv\")\n",
    "groundtruth_2019.info()"
   ]
  },
  {
   "cell_type": "code",
   "execution_count": 12,
   "metadata": {},
   "outputs": [],
   "source": [
    "CLASS_NAMES_LONG = ['Melanoma',\n",
    "                    'Melanocytic nevus',\n",
    "                    'Basal cell carcinoma',\n",
    "                    'Actinic keratosis',\n",
    "                    'Benign keratosis', #(solar lentigo / seborrheic keratosis / lichen planus-like keratosis)\n",
    "                    'Dermatofibroma',\n",
    "                    'Vascular lesion',\n",
    "                    'Squamous cell carcinoma']"
   ]
  },
  {
   "cell_type": "markdown",
   "metadata": {},
   "source": [
    "# New merged metadata\n",
    "20 Feb"
   ]
  },
  {
   "cell_type": "code",
   "execution_count": 20,
   "metadata": {},
   "outputs": [
    {
     "name": "stdout",
     "output_type": "stream",
     "text": [
      "<class 'pandas.core.frame.DataFrame'>\n",
      "RangeIndex: 57729 entries, 0 to 57728\n",
      "Data columns (total 8 columns):\n",
      " #   Column                         Non-Null Count  Dtype  \n",
      "---  ------                         --------------  -----  \n",
      " 0   image_id                       57729 non-null  object \n",
      " 1   patient_id                     55650 non-null  object \n",
      " 2   target                         57729 non-null  object \n",
      " 3   source                         57729 non-null  object \n",
      " 4   sex                            57310 non-null  object \n",
      " 5   age_approx                     57254 non-null  float64\n",
      " 6   benign_malignant               57729 non-null  object \n",
      " 7   anatom_site_general_challenge  54597 non-null  object \n",
      "dtypes: float64(1), object(7)\n",
      "memory usage: 3.5+ MB\n"
     ]
    }
   ],
   "source": [
    "metadata = pd.read_csv(\"ISICmerge2019_2020_remove_dup_img.csv\")\n",
    "metadata.info()"
   ]
  },
  {
   "cell_type": "code",
   "execution_count": 21,
   "metadata": {},
   "outputs": [
    {
     "data": {
      "text/html": [
       "<div>\n",
       "<style scoped>\n",
       "    .dataframe tbody tr th:only-of-type {\n",
       "        vertical-align: middle;\n",
       "    }\n",
       "\n",
       "    .dataframe tbody tr th {\n",
       "        vertical-align: top;\n",
       "    }\n",
       "\n",
       "    .dataframe thead th {\n",
       "        text-align: right;\n",
       "    }\n",
       "</style>\n",
       "<table border=\"1\" class=\"dataframe\">\n",
       "  <thead>\n",
       "    <tr style=\"text-align: right;\">\n",
       "      <th></th>\n",
       "      <th>image_id</th>\n",
       "      <th>patient_id</th>\n",
       "      <th>target</th>\n",
       "      <th>source</th>\n",
       "      <th>sex</th>\n",
       "      <th>age_approx</th>\n",
       "      <th>benign_malignant</th>\n",
       "      <th>anatom_site_general_challenge</th>\n",
       "    </tr>\n",
       "  </thead>\n",
       "  <tbody>\n",
       "    <tr>\n",
       "      <th>0</th>\n",
       "      <td>ISIC_2637011.jpg</td>\n",
       "      <td>IP_7279968</td>\n",
       "      <td>unknown</td>\n",
       "      <td>ISIC2020</td>\n",
       "      <td>male</td>\n",
       "      <td>45.0</td>\n",
       "      <td>benign</td>\n",
       "      <td>head/neck</td>\n",
       "    </tr>\n",
       "    <tr>\n",
       "      <th>1</th>\n",
       "      <td>ISIC_0015719.jpg</td>\n",
       "      <td>IP_3075186</td>\n",
       "      <td>unknown</td>\n",
       "      <td>ISIC2020</td>\n",
       "      <td>female</td>\n",
       "      <td>45.0</td>\n",
       "      <td>benign</td>\n",
       "      <td>upper extremity</td>\n",
       "    </tr>\n",
       "    <tr>\n",
       "      <th>2</th>\n",
       "      <td>ISIC_0052212.jpg</td>\n",
       "      <td>IP_2842074</td>\n",
       "      <td>nevus</td>\n",
       "      <td>ISIC2020</td>\n",
       "      <td>female</td>\n",
       "      <td>50.0</td>\n",
       "      <td>benign</td>\n",
       "      <td>lower extremity</td>\n",
       "    </tr>\n",
       "    <tr>\n",
       "      <th>3</th>\n",
       "      <td>ISIC_0068279.jpg</td>\n",
       "      <td>IP_6890425</td>\n",
       "      <td>unknown</td>\n",
       "      <td>ISIC2020</td>\n",
       "      <td>female</td>\n",
       "      <td>45.0</td>\n",
       "      <td>benign</td>\n",
       "      <td>head/neck</td>\n",
       "    </tr>\n",
       "    <tr>\n",
       "      <th>4</th>\n",
       "      <td>ISIC_0074268.jpg</td>\n",
       "      <td>IP_8723313</td>\n",
       "      <td>unknown</td>\n",
       "      <td>ISIC2020</td>\n",
       "      <td>female</td>\n",
       "      <td>55.0</td>\n",
       "      <td>benign</td>\n",
       "      <td>upper extremity</td>\n",
       "    </tr>\n",
       "  </tbody>\n",
       "</table>\n",
       "</div>"
      ],
      "text/plain": [
       "           image_id  patient_id   target    source     sex  age_approx  \\\n",
       "0  ISIC_2637011.jpg  IP_7279968  unknown  ISIC2020    male        45.0   \n",
       "1  ISIC_0015719.jpg  IP_3075186  unknown  ISIC2020  female        45.0   \n",
       "2  ISIC_0052212.jpg  IP_2842074    nevus  ISIC2020  female        50.0   \n",
       "3  ISIC_0068279.jpg  IP_6890425  unknown  ISIC2020  female        45.0   \n",
       "4  ISIC_0074268.jpg  IP_8723313  unknown  ISIC2020  female        55.0   \n",
       "\n",
       "  benign_malignant anatom_site_general_challenge  \n",
       "0           benign                     head/neck  \n",
       "1           benign               upper extremity  \n",
       "2           benign               lower extremity  \n",
       "3           benign                     head/neck  \n",
       "4           benign               upper extremity  "
      ]
     },
     "execution_count": 21,
     "metadata": {},
     "output_type": "execute_result"
    }
   ],
   "source": [
    "metadata.head()"
   ]
  },
  {
   "cell_type": "code",
   "execution_count": 22,
   "metadata": {},
   "outputs": [
    {
     "data": {
      "text/html": [
       "<div>\n",
       "<style scoped>\n",
       "    .dataframe tbody tr th:only-of-type {\n",
       "        vertical-align: middle;\n",
       "    }\n",
       "\n",
       "    .dataframe tbody tr th {\n",
       "        vertical-align: top;\n",
       "    }\n",
       "\n",
       "    .dataframe thead th {\n",
       "        text-align: right;\n",
       "    }\n",
       "</style>\n",
       "<table border=\"1\" class=\"dataframe\">\n",
       "  <thead>\n",
       "    <tr style=\"text-align: right;\">\n",
       "      <th></th>\n",
       "      <th>image_id</th>\n",
       "      <th>patient_id</th>\n",
       "      <th>target</th>\n",
       "      <th>source</th>\n",
       "      <th>sex</th>\n",
       "      <th>age_approx</th>\n",
       "      <th>benign_malignant</th>\n",
       "      <th>anatom_site_general_challenge</th>\n",
       "    </tr>\n",
       "  </thead>\n",
       "  <tbody>\n",
       "    <tr>\n",
       "      <th>32462</th>\n",
       "      <td>ISIC_0000000.jpg</td>\n",
       "      <td>NaN</td>\n",
       "      <td>nevus</td>\n",
       "      <td>ISIC2019</td>\n",
       "      <td>female</td>\n",
       "      <td>55.0</td>\n",
       "      <td>benign</td>\n",
       "      <td>torso</td>\n",
       "    </tr>\n",
       "    <tr>\n",
       "      <th>32463</th>\n",
       "      <td>ISIC_0000001.jpg</td>\n",
       "      <td>NaN</td>\n",
       "      <td>nevus</td>\n",
       "      <td>ISIC2019</td>\n",
       "      <td>female</td>\n",
       "      <td>30.0</td>\n",
       "      <td>benign</td>\n",
       "      <td>torso</td>\n",
       "    </tr>\n",
       "    <tr>\n",
       "      <th>32464</th>\n",
       "      <td>ISIC_0000002.jpg</td>\n",
       "      <td>NaN</td>\n",
       "      <td>melanoma</td>\n",
       "      <td>ISIC2019</td>\n",
       "      <td>female</td>\n",
       "      <td>60.0</td>\n",
       "      <td>malignant</td>\n",
       "      <td>upper extremity</td>\n",
       "    </tr>\n",
       "    <tr>\n",
       "      <th>32465</th>\n",
       "      <td>ISIC_0000003.jpg</td>\n",
       "      <td>NaN</td>\n",
       "      <td>nevus</td>\n",
       "      <td>ISIC2019</td>\n",
       "      <td>male</td>\n",
       "      <td>30.0</td>\n",
       "      <td>benign</td>\n",
       "      <td>upper extremity</td>\n",
       "    </tr>\n",
       "    <tr>\n",
       "      <th>32466</th>\n",
       "      <td>ISIC_0000004.jpg</td>\n",
       "      <td>NaN</td>\n",
       "      <td>melanoma</td>\n",
       "      <td>ISIC2019</td>\n",
       "      <td>male</td>\n",
       "      <td>80.0</td>\n",
       "      <td>malignant</td>\n",
       "      <td>torso</td>\n",
       "    </tr>\n",
       "  </tbody>\n",
       "</table>\n",
       "</div>"
      ],
      "text/plain": [
       "               image_id patient_id    target    source     sex  age_approx  \\\n",
       "32462  ISIC_0000000.jpg        NaN     nevus  ISIC2019  female        55.0   \n",
       "32463  ISIC_0000001.jpg        NaN     nevus  ISIC2019  female        30.0   \n",
       "32464  ISIC_0000002.jpg        NaN  melanoma  ISIC2019  female        60.0   \n",
       "32465  ISIC_0000003.jpg        NaN     nevus  ISIC2019    male        30.0   \n",
       "32466  ISIC_0000004.jpg        NaN  melanoma  ISIC2019    male        80.0   \n",
       "\n",
       "      benign_malignant anatom_site_general_challenge  \n",
       "32462           benign                         torso  \n",
       "32463           benign                         torso  \n",
       "32464        malignant               upper extremity  \n",
       "32465           benign               upper extremity  \n",
       "32466        malignant                         torso  "
      ]
     },
     "execution_count": 22,
     "metadata": {},
     "output_type": "execute_result"
    }
   ],
   "source": [
    "metadata[metadata.source=='ISIC2019'].head()"
   ]
  },
  {
   "cell_type": "markdown",
   "metadata": {},
   "source": [
    "### Create integer class labels"
   ]
  },
  {
   "cell_type": "code",
   "execution_count": 23,
   "metadata": {},
   "outputs": [
    {
     "data": {
      "text/html": [
       "<div>\n",
       "<style scoped>\n",
       "    .dataframe tbody tr th:only-of-type {\n",
       "        vertical-align: middle;\n",
       "    }\n",
       "\n",
       "    .dataframe tbody tr th {\n",
       "        vertical-align: top;\n",
       "    }\n",
       "\n",
       "    .dataframe thead th {\n",
       "        text-align: right;\n",
       "    }\n",
       "</style>\n",
       "<table border=\"1\" class=\"dataframe\">\n",
       "  <thead>\n",
       "    <tr style=\"text-align: right;\">\n",
       "      <th></th>\n",
       "      <th>image_id</th>\n",
       "      <th>patient_id</th>\n",
       "      <th>target</th>\n",
       "      <th>source</th>\n",
       "      <th>sex</th>\n",
       "      <th>age_approx</th>\n",
       "      <th>benign_malignant</th>\n",
       "      <th>anatom_site_general_challenge</th>\n",
       "      <th>class</th>\n",
       "    </tr>\n",
       "  </thead>\n",
       "  <tbody>\n",
       "    <tr>\n",
       "      <th>57724</th>\n",
       "      <td>ISIC_0073247.jpg</td>\n",
       "      <td>BCN_0003925</td>\n",
       "      <td>basal cell carcinoma</td>\n",
       "      <td>ISIC2019</td>\n",
       "      <td>female</td>\n",
       "      <td>85.0</td>\n",
       "      <td>benign</td>\n",
       "      <td>head/neck</td>\n",
       "      <td>6</td>\n",
       "    </tr>\n",
       "    <tr>\n",
       "      <th>57725</th>\n",
       "      <td>ISIC_0073248.jpg</td>\n",
       "      <td>BCN_0001819</td>\n",
       "      <td>keratosis</td>\n",
       "      <td>ISIC2019</td>\n",
       "      <td>male</td>\n",
       "      <td>65.0</td>\n",
       "      <td>benign</td>\n",
       "      <td>torso</td>\n",
       "      <td>3</td>\n",
       "    </tr>\n",
       "    <tr>\n",
       "      <th>57726</th>\n",
       "      <td>ISIC_0073249.jpg</td>\n",
       "      <td>BCN_0001085</td>\n",
       "      <td>melanoma</td>\n",
       "      <td>ISIC2019</td>\n",
       "      <td>male</td>\n",
       "      <td>70.0</td>\n",
       "      <td>malignant</td>\n",
       "      <td>lower extremity</td>\n",
       "      <td>2</td>\n",
       "    </tr>\n",
       "    <tr>\n",
       "      <th>57727</th>\n",
       "      <td>ISIC_0073251.jpg</td>\n",
       "      <td>BCN_0002083</td>\n",
       "      <td>nevus</td>\n",
       "      <td>ISIC2019</td>\n",
       "      <td>female</td>\n",
       "      <td>55.0</td>\n",
       "      <td>benign</td>\n",
       "      <td>palms/soles</td>\n",
       "      <td>1</td>\n",
       "    </tr>\n",
       "    <tr>\n",
       "      <th>57728</th>\n",
       "      <td>ISIC_0073254.jpg</td>\n",
       "      <td>BCN_0001079</td>\n",
       "      <td>keratosis</td>\n",
       "      <td>ISIC2019</td>\n",
       "      <td>male</td>\n",
       "      <td>50.0</td>\n",
       "      <td>benign</td>\n",
       "      <td>upper extremity</td>\n",
       "      <td>3</td>\n",
       "    </tr>\n",
       "  </tbody>\n",
       "</table>\n",
       "</div>"
      ],
      "text/plain": [
       "               image_id   patient_id                target    source     sex  \\\n",
       "57724  ISIC_0073247.jpg  BCN_0003925  basal cell carcinoma  ISIC2019  female   \n",
       "57725  ISIC_0073248.jpg  BCN_0001819             keratosis  ISIC2019    male   \n",
       "57726  ISIC_0073249.jpg  BCN_0001085              melanoma  ISIC2019    male   \n",
       "57727  ISIC_0073251.jpg  BCN_0002083                 nevus  ISIC2019  female   \n",
       "57728  ISIC_0073254.jpg  BCN_0001079             keratosis  ISIC2019    male   \n",
       "\n",
       "       age_approx benign_malignant anatom_site_general_challenge  class  \n",
       "57724        85.0           benign                     head/neck      6  \n",
       "57725        65.0           benign                         torso      3  \n",
       "57726        70.0        malignant               lower extremity      2  \n",
       "57727        55.0           benign                   palms/soles      1  \n",
       "57728        50.0           benign               upper extremity      3  "
      ]
     },
     "execution_count": 23,
     "metadata": {},
     "output_type": "execute_result"
    }
   ],
   "source": [
    "classes = list(enumerate(metadata.target.unique()))\n",
    "classes_dict = {class_tup[1]: class_tup[0] for class_tup in classes}\n",
    "\n",
    "metadata['class'] = metadata.target.map(classes_dict)\n",
    "metadata.tail()"
   ]
  },
  {
   "cell_type": "code",
   "execution_count": 24,
   "metadata": {},
   "outputs": [],
   "source": [
    "metadata.to_csv(\"ISIC.csv\", index=False)"
   ]
  },
  {
   "cell_type": "code",
   "execution_count": 25,
   "metadata": {},
   "outputs": [
    {
     "data": {
      "text/html": [
       "<div>\n",
       "<style scoped>\n",
       "    .dataframe tbody tr th:only-of-type {\n",
       "        vertical-align: middle;\n",
       "    }\n",
       "\n",
       "    .dataframe tbody tr th {\n",
       "        vertical-align: top;\n",
       "    }\n",
       "\n",
       "    .dataframe thead th {\n",
       "        text-align: right;\n",
       "    }\n",
       "</style>\n",
       "<table border=\"1\" class=\"dataframe\">\n",
       "  <thead>\n",
       "    <tr style=\"text-align: right;\">\n",
       "      <th></th>\n",
       "      <th>image_id</th>\n",
       "      <th>patient_id</th>\n",
       "      <th>target</th>\n",
       "      <th>source</th>\n",
       "      <th>sex</th>\n",
       "      <th>age_approx</th>\n",
       "      <th>benign_malignant</th>\n",
       "      <th>anatom_site_general_challenge</th>\n",
       "      <th>class</th>\n",
       "    </tr>\n",
       "  </thead>\n",
       "  <tbody>\n",
       "    <tr>\n",
       "      <th>57724</th>\n",
       "      <td>ISIC_0073247.jpg</td>\n",
       "      <td>BCN_0003925</td>\n",
       "      <td>basal cell carcinoma</td>\n",
       "      <td>ISIC2019</td>\n",
       "      <td>female</td>\n",
       "      <td>85.0</td>\n",
       "      <td>benign</td>\n",
       "      <td>head/neck</td>\n",
       "      <td>6</td>\n",
       "    </tr>\n",
       "    <tr>\n",
       "      <th>57725</th>\n",
       "      <td>ISIC_0073248.jpg</td>\n",
       "      <td>BCN_0001819</td>\n",
       "      <td>keratosis</td>\n",
       "      <td>ISIC2019</td>\n",
       "      <td>male</td>\n",
       "      <td>65.0</td>\n",
       "      <td>benign</td>\n",
       "      <td>torso</td>\n",
       "      <td>3</td>\n",
       "    </tr>\n",
       "    <tr>\n",
       "      <th>57726</th>\n",
       "      <td>ISIC_0073249.jpg</td>\n",
       "      <td>BCN_0001085</td>\n",
       "      <td>melanoma</td>\n",
       "      <td>ISIC2019</td>\n",
       "      <td>male</td>\n",
       "      <td>70.0</td>\n",
       "      <td>malignant</td>\n",
       "      <td>lower extremity</td>\n",
       "      <td>2</td>\n",
       "    </tr>\n",
       "    <tr>\n",
       "      <th>57727</th>\n",
       "      <td>ISIC_0073251.jpg</td>\n",
       "      <td>BCN_0002083</td>\n",
       "      <td>nevus</td>\n",
       "      <td>ISIC2019</td>\n",
       "      <td>female</td>\n",
       "      <td>55.0</td>\n",
       "      <td>benign</td>\n",
       "      <td>palms/soles</td>\n",
       "      <td>1</td>\n",
       "    </tr>\n",
       "    <tr>\n",
       "      <th>57728</th>\n",
       "      <td>ISIC_0073254.jpg</td>\n",
       "      <td>BCN_0001079</td>\n",
       "      <td>keratosis</td>\n",
       "      <td>ISIC2019</td>\n",
       "      <td>male</td>\n",
       "      <td>50.0</td>\n",
       "      <td>benign</td>\n",
       "      <td>upper extremity</td>\n",
       "      <td>3</td>\n",
       "    </tr>\n",
       "  </tbody>\n",
       "</table>\n",
       "</div>"
      ],
      "text/plain": [
       "               image_id   patient_id                target    source     sex  \\\n",
       "57724  ISIC_0073247.jpg  BCN_0003925  basal cell carcinoma  ISIC2019  female   \n",
       "57725  ISIC_0073248.jpg  BCN_0001819             keratosis  ISIC2019    male   \n",
       "57726  ISIC_0073249.jpg  BCN_0001085              melanoma  ISIC2019    male   \n",
       "57727  ISIC_0073251.jpg  BCN_0002083                 nevus  ISIC2019  female   \n",
       "57728  ISIC_0073254.jpg  BCN_0001079             keratosis  ISIC2019    male   \n",
       "\n",
       "       age_approx benign_malignant anatom_site_general_challenge  class  \n",
       "57724        85.0           benign                     head/neck      6  \n",
       "57725        65.0           benign                         torso      3  \n",
       "57726        70.0        malignant               lower extremity      2  \n",
       "57727        55.0           benign                   palms/soles      1  \n",
       "57728        50.0           benign               upper extremity      3  "
      ]
     },
     "execution_count": 25,
     "metadata": {},
     "output_type": "execute_result"
    }
   ],
   "source": [
    "metadata = pd.read_csv(\"ISIC.csv\")\n",
    "metadata.tail()"
   ]
  },
  {
   "cell_type": "code",
   "execution_count": null,
   "metadata": {},
   "outputs": [],
   "source": []
  }
 ],
 "metadata": {
  "kernelspec": {
   "display_name": "Python 3 (ipykernel)",
   "language": "python",
   "name": "python3"
  },
  "language_info": {
   "codemirror_mode": {
    "name": "ipython",
    "version": 3
   },
   "file_extension": ".py",
   "mimetype": "text/x-python",
   "name": "python",
   "nbconvert_exporter": "python",
   "pygments_lexer": "ipython3",
   "version": "3.10.8"
  }
 },
 "nbformat": 4,
 "nbformat_minor": 4
}
